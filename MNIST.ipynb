{
 "cells": [
  {
   "cell_type": "code",
   "execution_count": 3,
   "metadata": {},
   "outputs": [],
   "source": [
    "from torch.nn import ReLU\n",
    "import torch.optim as optim\n",
    "from torch.autograd import Variable\n",
    "import matplotlib.pyplot as plt\n",
    "import numpy as np\n",
    "from torch import nn\n",
    "import torch\n",
    "from torchvision import datasets, transforms\n",
    "import matplotlib.pyplot as plt\n",
    "import torch\n",
    "import torch.optim as optim\n",
    "from torch import nn\n",
    "from torch.autograd import Variable\n",
    "from torch.nn import ReLU\n",
    "from torchvision import datasets, transforms\n",
    "from torch.nn import functional as F\n",
    "from sklearn.metrics import confusion_matrix  # for evaluating results\n",
    "from torchvision.utils import make_grid\n",
    "import pandas as pd\n",
    "import seaborn as sn"
   ]
  },
  {
   "cell_type": "code",
   "execution_count": 9,
   "metadata": {},
   "outputs": [],
   "source": [
    "# <editor-fold desc=\"helper\">\n",
    "\n",
    "\n",
    "def imshow(image, ax=None, title=None, normalize=True):\n",
    "    \"\"\"Imshow for Tensor.\"\"\"\n",
    "    if ax is None:\n",
    "        fig, ax = plt.subplots()\n",
    "    image = image.numpy().transpose((1, 2, 0))\n",
    "\n",
    "    if normalize:\n",
    "        mean = np.array([0.485, 0.456, 0.406])\n",
    "        std = np.array([0.229, 0.224, 0.225])\n",
    "        image = std * image + mean\n",
    "        image = np.clip(image, 0, 1)\n",
    "\n",
    "    ax.imshow(image)\n",
    "    ax.spines['top'].set_visible(False)\n",
    "    ax.spines['right'].set_visible(False)\n",
    "    ax.spines['left'].set_visible(False)\n",
    "    ax.spines['bottom'].set_visible(False)\n",
    "    ax.tick_params(axis='both', length=0)\n",
    "    ax.set_xticklabels('')\n",
    "    ax.set_yticklabels('')\n",
    "\n",
    "    return ax\n",
    "\n",
    "\n",
    "def view_classify(img, ps, version=\"MNIST\"):\n",
    "    ''' Function for viewing an image and it's predicted classes.\n",
    "    '''\n",
    "    ps = ps.data.numpy().squeeze()\n",
    "\n",
    "    fig, (ax1, ax2) = plt.subplots(figsize=(6, 9), ncols=2)\n",
    "    ax1.imshow(img.resize_(1, 28, 28).numpy().squeeze())\n",
    "    ax1.axis('off')\n",
    "    ax2.barh(np.arange(10), ps)\n",
    "    ax2.set_aspect(0.1)\n",
    "    ax2.set_yticks(np.arange(10))\n",
    "    if version == \"MNIST\":\n",
    "        ax2.set_yticklabels(np.arange(10))\n",
    "    elif version == \"Fashion\":\n",
    "        ax2.set_yticklabels(['T-shirt/top',\n",
    "                             'Trouser',\n",
    "                             'Pullover',\n",
    "                             'Dress',\n",
    "                             'Coat',\n",
    "                             'Sandal',\n",
    "                             'Shirt',\n",
    "                             'Sneaker',\n",
    "                             'Bag',\n",
    "                             'Ankle Boot'], size='small');\n",
    "    ax2.set_title('Class Probability')\n",
    "    ax2.set_xlim(0, 1.1)\n",
    "\n",
    "    plt.tight_layout()\n",
    "\n",
    "    \n",
    "def count_parameters(model):\n",
    "    params = [p.numel() for p in model.parameters() if p.requires_grad]\n",
    "    for item in params:\n",
    "        print(f'{item:>6}')\n",
    "    print(f'______\\n{sum(params):>6}')\n",
    "# </editor-fold>"
   ]
  },
  {
   "cell_type": "markdown",
   "metadata": {},
   "source": [
    "## 1-Device definition"
   ]
  },
  {
   "cell_type": "code",
   "execution_count": 6,
   "metadata": {},
   "outputs": [
    {
     "data": {
      "text/plain": [
       "'cuda'"
      ]
     },
     "execution_count": 6,
     "metadata": {},
     "output_type": "execute_result"
    }
   ],
   "source": [
    "device = 'cuda' if torch.cuda.is_available() else 'cpu'\n",
    "device"
   ]
  },
  {
   "cell_type": "markdown",
   "metadata": {},
   "source": [
    "## 2- Data"
   ]
  },
  {
   "cell_type": "code",
   "execution_count": 7,
   "metadata": {
    "scrolled": true
   },
   "outputs": [
    {
     "name": "stdout",
     "output_type": "stream",
     "text": [
      "Downloading http://yann.lecun.com/exdb/mnist/train-images-idx3-ubyte.gz to data/MNIST\\raw\\train-images-idx3-ubyte.gz\n"
     ]
    },
    {
     "data": {
      "application/vnd.jupyter.widget-view+json": {
       "model_id": "6644f01a08e74bc895d346beea5738f5",
       "version_major": 2,
       "version_minor": 0
      },
      "text/plain": [
       "HBox(children=(IntProgress(value=1, bar_style='info', max=1), HTML(value='')))"
      ]
     },
     "metadata": {},
     "output_type": "display_data"
    },
    {
     "name": "stdout",
     "output_type": "stream",
     "text": [
      "\n",
      "Extracting data/MNIST\\raw\\train-images-idx3-ubyte.gz to data/MNIST\\raw\n",
      "Downloading http://yann.lecun.com/exdb/mnist/train-labels-idx1-ubyte.gz to data/MNIST\\raw\\train-labels-idx1-ubyte.gz\n"
     ]
    },
    {
     "data": {
      "application/vnd.jupyter.widget-view+json": {
       "model_id": "84119d8a279a40ad9fc029f1bd33e9c5",
       "version_major": 2,
       "version_minor": 0
      },
      "text/plain": [
       "HBox(children=(IntProgress(value=1, bar_style='info', max=1), HTML(value='')))"
      ]
     },
     "metadata": {},
     "output_type": "display_data"
    },
    {
     "name": "stdout",
     "output_type": "stream",
     "text": [
      "\n",
      "Extracting data/MNIST\\raw\\train-labels-idx1-ubyte.gz to data/MNIST\\raw\n",
      "Downloading http://yann.lecun.com/exdb/mnist/t10k-images-idx3-ubyte.gz to data/MNIST\\raw\\t10k-images-idx3-ubyte.gz\n"
     ]
    },
    {
     "data": {
      "application/vnd.jupyter.widget-view+json": {
       "model_id": "e6f08ad2c305472fb1708a5a7f599747",
       "version_major": 2,
       "version_minor": 0
      },
      "text/plain": [
       "HBox(children=(IntProgress(value=1, bar_style='info', max=1), HTML(value='')))"
      ]
     },
     "metadata": {},
     "output_type": "display_data"
    },
    {
     "name": "stdout",
     "output_type": "stream",
     "text": [
      "\n",
      "Extracting data/MNIST\\raw\\t10k-images-idx3-ubyte.gz to data/MNIST\\raw\n",
      "Downloading http://yann.lecun.com/exdb/mnist/t10k-labels-idx1-ubyte.gz to data/MNIST\\raw\\t10k-labels-idx1-ubyte.gz\n"
     ]
    },
    {
     "data": {
      "application/vnd.jupyter.widget-view+json": {
       "model_id": "065bc67cc35d4a53affe653d262789f8",
       "version_major": 2,
       "version_minor": 0
      },
      "text/plain": [
       "HBox(children=(IntProgress(value=1, bar_style='info', max=1), HTML(value='')))"
      ]
     },
     "metadata": {},
     "output_type": "display_data"
    },
    {
     "name": "stdout",
     "output_type": "stream",
     "text": [
      "\n",
      "Extracting data/MNIST\\raw\\t10k-labels-idx1-ubyte.gz to data/MNIST\\raw\n",
      "Processing...\n"
     ]
    },
    {
     "name": "stderr",
     "output_type": "stream",
     "text": [
      "..\\torch\\csrc\\utils\\tensor_numpy.cpp:141: UserWarning: The given NumPy array is not writeable, and PyTorch does not support non-writeable tensors. This means you can write to the underlying (supposedly non-writeable) NumPy array using the tensor. You may want to copy the array to protect its data or make it writeable before converting it to a tensor. This type of warning will be suppressed for the rest of this program.\n"
     ]
    },
    {
     "name": "stdout",
     "output_type": "stream",
     "text": [
      "Done!\n"
     ]
    }
   ],
   "source": [
    "transformation = transforms.Compose([transforms.ToTensor(), transforms.Normalize((0.1307,), (0.3081,))])\n",
    "# Download and load the training data\n",
    "train_dataset = datasets.MNIST('data/', train=True, transform=transformation, download=True)\n",
    "test_dataset = datasets.MNIST('data/', train=False, transform=transformation, download=True)\n",
    "train_loader = torch.utils.data.DataLoader(train_dataset, batch_size=64, shuffle=True)\n",
    "test_loader = torch.utils.data.DataLoader(test_dataset, batch_size=64, shuffle=True)"
   ]
  },
  {
   "cell_type": "markdown",
   "metadata": {},
   "source": [
    "## 3- Model definition"
   ]
  },
  {
   "cell_type": "code",
   "execution_count": 8,
   "metadata": {},
   "outputs": [],
   "source": [
    "class Net_Udacity(nn.Module):\n",
    "    def __init__(self,in_size=784,out_size=10,hid_size=[128,64]):\n",
    "        super().__init__()\n",
    "        self.fc1 = nn.Linear(in_size, hid_size[0])\n",
    "        self.fc2 = nn.Linear(hid_size[0], hid_size[1])\n",
    "        self.fc3 = nn.Linear(hid_size[1], out_size)\n",
    "\n",
    "    def forward(self, x):\n",
    "        x = x.view(x.shape[0], -1) #input [.,1,28,28] will be converted to [.,728]. In case of one data [1,728]. in case of batch [64,728]\n",
    "        x = self.fc1(x)\n",
    "        x = F.relu(x)\n",
    "        x = self.fc2(x)\n",
    "        x = F.relu(x)\n",
    "        x = self.fc3(x)\n",
    "        return F.log_softmax(x, dim=1)\n",
    "\n",
    "\n",
    "class Net(nn.Module):\n",
    "    def __init__(self):\n",
    "        super().__init__()\n",
    "        self.conv1 = nn.Conv2d(1, 10, kernel_size=5) #takes 1 channel, gives 10 channel\n",
    "        self.conv2 = nn.Conv2d(10, 20, kernel_size=5) #takes 10 channel, gives 20 channel\n",
    "        self.conv2_drop = nn.Dropout2d()\n",
    "        self.fc1 = nn.Linear(320, 50)\n",
    "        self.fc2 = nn.Linear(50, 10)\n",
    "\n",
    "    def forward(self, x):# x size[64,1,28,28] this is the input size [64 picture, 1 channel, 28 pixcel, 28 pixcel]\n",
    "        x = self.conv1(x)#[64, 10, 24, 24] this changes channel and pixel\n",
    "        x = F.max_pool2d(x, 2)#[64, 10, 12, 12] this changes pixel\n",
    "        x = F.relu(x)\n",
    "        x = self.conv2(x)#[64, 20, 8, 8] this changes channel and pixel\n",
    "        x = self.conv2_drop(x) # this doesnt change anything\n",
    "        x = F.max_pool2d(x, 2)#[64, 20, 4, 4] this changes pixels\n",
    "        x = F.relu(x)\n",
    "        x = x.view(-1, 320)  #[64, 320]\n",
    "        x = self.fc1(x)#[64, 50]\n",
    "        x = F.relu(x)\n",
    "        # x = F.dropout(x,p=0.1, training=self.training)\n",
    "        x = self.fc2(x)#[64, 10]\n",
    "        return F.log_softmax(x, dim=1)\n",
    "\n",
    "\n",
    "class Classifier(nn.Module):\n",
    "    def __init__(self):\n",
    "        super().__init__()\n",
    "        self.fc1 = nn.Linear(784, 256)\n",
    "        self.fc2 = nn.Linear(256, 128)\n",
    "        self.fc3 = nn.Linear(128, 64)\n",
    "        self.fc4 = nn.Linear(64, 10)\n",
    "\n",
    "    def forward(self, x):\n",
    "        # make sure input tensor is flattened\n",
    "        x = x.view(x.shape[0], -1)\n",
    "        x = F.relu(self.fc1(x))\n",
    "        x = F.relu(self.fc2(x))\n",
    "        x = F.relu(self.fc3(x))\n",
    "        x = F.log_softmax(self.fc4(x), dim=1)\n",
    "        return x\n",
    "\n",
    "class ConvolutionalNetwork(nn.Module):\n",
    "    def __init__(self):\n",
    "        super().__init__()\n",
    "        self.conv1 = nn.Conv2d(1, 6, 3, 1)\n",
    "        self.conv2 = nn.Conv2d(6, 16, 3, 1)\n",
    "        self.fc1 = nn.Linear(5*5*16, 120)\n",
    "        self.fc2 = nn.Linear(120, 84)\n",
    "        self.fc3 = nn.Linear(84,10)\n",
    "\n",
    "    def forward(self, X):#[64,1,28,28]\n",
    "        X = F.relu(self.conv1(X)) #[64, 6, 26, 26]\n",
    "        X = F.max_pool2d(X, 2, 2) #[64, 6, 13, 13]\n",
    "        X = F.relu(self.conv2(X)) #[64, 16, 11, 11]\n",
    "        X = F.max_pool2d(X, 2, 2) #[64, 16, 5, 5]\n",
    "        X = X.view(-1, 5*5*16)#[64, 400]\n",
    "        X = F.relu(self.fc1(X))#[400,120]\n",
    "        X = F.relu(self.fc2(X))#[120,84]\n",
    "        X = self.fc3(X)#[84,10]\n",
    "        return F.log_softmax(X, dim=1)\n",
    "        return X"
   ]
  },
  {
   "cell_type": "code",
   "execution_count": 12,
   "metadata": {},
   "outputs": [],
   "source": [
    "model = Net_Udacity().to(device)\n",
    "model = Net().to(device)\n",
    "model=Classifier().to(device)\n",
    "model=ConvolutionalNetwork().to(device)\n"
   ]
  },
  {
   "cell_type": "markdown",
   "metadata": {},
   "source": [
    "## 4- Model size"
   ]
  },
  {
   "cell_type": "code",
   "execution_count": 13,
   "metadata": {},
   "outputs": [
    {
     "name": "stdout",
     "output_type": "stream",
     "text": [
      "    54\n",
      "     6\n",
      "   864\n",
      "    16\n",
      " 48000\n",
      "   120\n",
      " 10080\n",
      "    84\n",
      "   840\n",
      "    10\n",
      "______\n",
      " 60074\n"
     ]
    }
   ],
   "source": [
    "count_parameters(model)"
   ]
  },
  {
   "cell_type": "markdown",
   "metadata": {},
   "source": [
    "## 5- Size Analysis"
   ]
  },
  {
   "cell_type": "code",
   "execution_count": 14,
   "metadata": {},
   "outputs": [
    {
     "data": {
      "text/plain": [
       "torch.Size([64, 1, 28, 28])"
      ]
     },
     "execution_count": 14,
     "metadata": {},
     "output_type": "execute_result"
    }
   ],
   "source": [
    "data, targets = next(iter(train_loader))\n",
    "data.size()  # # [64,1,28,28] will be converted to [64,784] in the model"
   ]
  },
  {
   "cell_type": "code",
   "execution_count": 15,
   "metadata": {},
   "outputs": [
    {
     "data": {
      "text/plain": [
       "torch.Size([1, 28, 28])"
      ]
     },
     "execution_count": 15,
     "metadata": {},
     "output_type": "execute_result"
    }
   ],
   "source": [
    "model(data.to(device)).size()  # [64,10] #batch model\n",
    "data[0].size()  # [1,28,28]   #one data"
   ]
  },
  {
   "cell_type": "code",
   "execution_count": 16,
   "metadata": {},
   "outputs": [
    {
     "data": {
      "text/plain": [
       "torch.Size([1, 1, 28, 28])"
      ]
     },
     "execution_count": 16,
     "metadata": {},
     "output_type": "execute_result"
    }
   ],
   "source": [
    "data_1 = data[0].unsqueeze(0)\n",
    "data_1.size()  # [1,1,28,28]"
   ]
  },
  {
   "cell_type": "code",
   "execution_count": 17,
   "metadata": {},
   "outputs": [
    {
     "data": {
      "image/png": "[encoded data removed]",
      "text/plain": [
       "<Figure size 432x648 with 2 Axes>"
      ]
     },
     "metadata": {
      "needs_background": "light"
     },
     "output_type": "display_data"
    }
   ],
   "source": [
    "with torch.no_grad():\n",
    "    logps = model.forward(data_1.to(device))#one model\n",
    "ps = torch.exp(logps.cpu())\n",
    "view_classify(data[0], ps)\n",
    "# plt.figure()\n",
    "# plt.imshow(data[0].reshape((28,28)), cmap=\"gist_yarg\");\n",
    "# plt.figure()\n",
    "# plt.imshow(data[0].reshape((28,28)), cmap=\"gray\");"
   ]
  },
  {
   "cell_type": "markdown",
   "metadata": {},
   "source": [
    "## 6- Optimizer and Loss"
   ]
  },
  {
   "cell_type": "code",
   "execution_count": 18,
   "metadata": {},
   "outputs": [],
   "source": [
    "optimizer = optim.SGD(model.parameters(), lr=0.01)\n",
    "optimizer = optim.Adam(model.parameters(), lr=0.003)\n",
    "optimizer.zero_grad()\n",
    "criterion = nn.NLLLoss()\n",
    "criterion = nn.CrossEntropyLoss() #this is used since we have multi class"
   ]
  },
  {
   "cell_type": "markdown",
   "metadata": {},
   "source": [
    "## 7- Fit functions"
   ]
  },
  {
   "cell_type": "code",
   "execution_count": 20,
   "metadata": {},
   "outputs": [],
   "source": [
    "def fit(model,device,data_loader,optimizer,criterion,phase='training'):\n",
    "    valid_loss=0\n",
    "    preds=[]\n",
    "    labels=[]\n",
    "\n",
    "    for i,(data, targets) in enumerate(data_loader):\n",
    "\n",
    "        output = model.forward(data.to(device))\n",
    "        loss = criterion(output, targets.to(device))\n",
    "        valid_loss += loss.item()\n",
    "        preds.extend([i.argmax().item() for i in output])\n",
    "        labels.extend([t.item() for t in targets])\n",
    "        _,acc=give_accuracy(preds,labels)\n",
    "        if phase == 'training':\n",
    "            loss.backward() #calculates gradients\n",
    "            optimizer.step() #updates weights using gradients\n",
    "            optimizer.zero_grad() #zeros gradients for next loop\n",
    "            if i % 100 == 0:\n",
    "                print(f'epoch: {e:2} batch :{i:2}  loss: {loss.item():10.8f} accuracy: {acc:2}')\n",
    "\n",
    "\n",
    "\n",
    "    return valid_loss,preds,labels,optimizer\n",
    "def give_accuracy(preds,labels):\n",
    "    correct_preds=len([i for i, j in zip(preds, labels) if i == j])\n",
    "    all_labels=len(labels)\n",
    "    return correct_preds, 100 * correct_preds / all_labels\n",
    "\n",
    "def wrong_preds(preds,labels):\n",
    "    return [k for k,(i, j) in enumerate(zip(preds, labels)) if i != j]\n",
    "\n",
    "def report(running_loss,preds,labels,phase=\"training\"):\n",
    "    print(f\"Training loss: {running_loss}\")\n",
    "    all_labels=len(labels)\n",
    "    correct_preds,accuracy=give_accuracy(preds,labels)\n",
    "    print(f'{correct_preds} out of {all_labels} = {accuracy:.2f}% correct')\n",
    "\n",
    "    print(f'\\n')\n",
    "    print(np.arange(10).reshape(1,10))\n",
    "    print()\n",
    "    print(confusion_matrix(preds, labels))\n",
    "\n",
    "    print(f'\\n')\n",
    "    if phase==\"validation\":\n",
    "        arr = confusion_matrix(preds, labels)\n",
    "        class_names=np.arange(10).reshape(1,10)\n",
    "        c_names=[str (i) for i in class_names[0]]\n",
    "        df_cm = pd.DataFrame(arr, c_names, c_names)\n",
    "        plt.figure(figsize = (9,6))\n",
    "        sn.heatmap(df_cm, annot=True, fmt=\"d\", cmap='BuGn')\n",
    "        plt.xlabel(\"prediction\")\n",
    "        plt.ylabel(\"label (ground truth)\")\n",
    "        plt.show();\n",
    "\n",
    "    return accuracy"
   ]
  },
  {
   "cell_type": "markdown",
   "metadata": {},
   "source": [
    "## 8- Training"
   ]
  },
  {
   "cell_type": "code",
   "execution_count": 22,
   "metadata": {
    "scrolled": false
   },
   "outputs": [
    {
     "name": "stdout",
     "output_type": "stream",
     "text": [
      "epoch:  0 batch : 0  loss: 0.03282929 accuracy: 98.4375\n",
      "epoch:  0 batch :100  loss: 0.01771923 accuracy: 98.9944306930693\n",
      "epoch:  0 batch :200  loss: 0.00480307 accuracy: 98.8106343283582\n",
      "epoch:  0 batch :300  loss: 0.06619927 accuracy: 98.81644518272425\n",
      "epoch:  0 batch :400  loss: 0.04742783 accuracy: 98.7803927680798\n",
      "epoch:  0 batch :500  loss: 0.05042199 accuracy: 98.71195109780439\n",
      "epoch:  0 batch :600  loss: 0.01928394 accuracy: 98.681884359401\n",
      "epoch:  0 batch :700  loss: 0.00162806 accuracy: 98.6537089871612\n",
      "epoch:  0 batch :800  loss: 0.09445805 accuracy: 98.67743445692884\n",
      "epoch:  0 batch :900  loss: 0.01279614 accuracy: 98.65600721420644\n",
      "-----------------------------------epoch:0\n",
      "Training loss: 40.306138571264455\n",
      "59187 out of 60000 = 98.64% correct\n",
      "\n",
      "\n",
      "[[0 1 2 3 4 5 6 7 8 9]]\n",
      "\n",
      "[[5870    1    7    2    2    8   14    1   10   14]\n",
      " [   3 6692    6    2    7    1    7   14    9    4]\n",
      " [   6    7 5890   27    1    1    2   26   15    2]\n",
      " [   1    3   12 6034    0   22    2    8   19    7]\n",
      " [   3    4    5    0 5768    4    7    9    6   47]\n",
      " [   6    3    0   28    2 5335   15    0   20   13]\n",
      " [  19    5    1    1    6   18 5860    0   13    0]\n",
      " [   0   16   19   12    7    4    0 6179    6   25]\n",
      " [   8   10   14   16    8   21   11    5 5730    8]\n",
      " [   7    1    4    9   41    7    0   23   23 5829]]\n",
      "\n",
      "\n",
      "epoch:  1 batch : 0  loss: 0.01973662 accuracy: 100.0\n",
      "epoch:  1 batch :100  loss: 0.01404558 accuracy: 99.10272277227723\n",
      "epoch:  1 batch :200  loss: 0.00804338 accuracy: 98.96610696517413\n",
      "epoch:  1 batch :300  loss: 0.00320995 accuracy: 99.00851328903654\n",
      "epoch:  1 batch :400  loss: 0.01722310 accuracy: 98.97911471321696\n",
      "epoch:  1 batch :500  loss: 0.01635358 accuracy: 98.92090818363273\n",
      "epoch:  1 batch :600  loss: 0.02773388 accuracy: 98.88207154742096\n",
      "epoch:  1 batch :700  loss: 0.04838908 accuracy: 98.88997860199714\n",
      "epoch:  1 batch :800  loss: 0.01432119 accuracy: 98.90956616729089\n",
      "epoch:  1 batch :900  loss: 0.03353532 accuracy: 98.87451442841288\n",
      "-----------------------------------epoch:1\n",
      "Training loss: 34.30528140745446\n",
      "59326 out of 60000 = 98.88% correct\n",
      "\n",
      "\n",
      "[[0 1 2 3 4 5 6 7 8 9]]\n",
      "\n",
      "[[5884    0    1    4    1    5   12    0    7    7]\n",
      " [   3 6703   10    1    7    1    5   10    9    4]\n",
      " [   5    6 5889   22    4    0    1   18   10    0]\n",
      " [   1    3   20 6051    1   19    1    4   10    4]\n",
      " [   0    5    2    0 5776    2    9    8    4   31]\n",
      " [   4    1    0   24    0 5352   15    0   15    6]\n",
      " [  14    2    1    1    9   19 5863    0   14    1]\n",
      " [   1   12   22    7    7    1    0 6198    4   30]\n",
      " [   7    8   11   14    4   14   12    1 5757   13]\n",
      " [   4    2    2    7   33    8    0   26   21 5853]]\n",
      "\n",
      "\n",
      "===================================Test\n",
      "elapesed time: 1.062478515625 Min\n",
      "Training loss: 5.639747409091797\n",
      "9891 out of 10000 = 98.91% correct\n",
      "\n",
      "\n",
      "[[0 1 2 3 4 5 6 7 8 9]]\n",
      "\n",
      "[[ 978    0    2    0    0    2    4    0    2    0]\n",
      " [   0 1132    0    2    0    0    2    4    0    2]\n",
      " [   0    1 1026    7    1    0    1    9    1    0]\n",
      " [   0    0    0  987    0    1    0    0    1    0]\n",
      " [   0    0    1    0  976    0    1    1    0   10]\n",
      " [   0    0    0    6    0  885    1    0    1   11]\n",
      " [   1    0    0    0    1    1  948    0    0    0]\n",
      " [   1    0    3    2    0    1    0 1012    0    4]\n",
      " [   0    2    0    5    0    1    1    0  968    3]\n",
      " [   0    0    0    1    4    1    0    2    1  979]]\n",
      "\n",
      "\n"
     ]
    },
    {
     "data": {
      "image/png": "[encoded data removed]",
      "text/plain": [
       "<Figure size 432x288 with 1 Axes>"
      ]
     },
     "metadata": {
      "needs_background": "light"
     },
     "output_type": "display_data"
    },
    {
     "data": {
      "image/png": "[encoded data removed]",
      "text/plain": [
       "<Figure size 432x288 with 1 Axes>"
      ]
     },
     "metadata": {
      "needs_background": "light"
     },
     "output_type": "display_data"
    },
    {
     "data": {
      "image/png": "[encoded data removed]",
      "text/plain": [
       "<Figure size 648x432 with 2 Axes>"
      ]
     },
     "metadata": {
      "needs_background": "light"
     },
     "output_type": "display_data"
    },
    {
     "name": "stdout",
     "output_type": "stream",
     "text": [
      "some misclassifications:\n",
      "Index: [ 18  92 245 247 445 449 659 740 882 938 947]\n",
      "Label: [3, 9, 3, 4, 6, 3, 2, 4, 9, 3, 8]\n",
      "Guess: [8, 4, 1, 2, 0, 5, 7, 9, 4, 5, 9]\n"
     ]
    },
    {
     "name": "stderr",
     "output_type": "stream",
     "text": [
      "Clipping input data to the valid range for imshow with RGB data ([0..1] for floats or [0..255] for integers).\n"
     ]
    },
    {
     "data": {
      "image/png": "[encoded data removed]",
      "text/plain": [
       "<Figure size 720x288 with 1 Axes>"
      ]
     },
     "metadata": {
      "needs_background": "light"
     },
     "output_type": "display_data"
    }
   ],
   "source": [
    "epochs = 2\n",
    "start = torch.cuda.Event(enable_timing=True)\n",
    "end = torch.cuda.Event(enable_timing=True)\n",
    "start.record()\n",
    "losses = []\n",
    "accuracy = []\n",
    "for e in range(epochs):\n",
    "    running_loss,preds,labels,optimizer=fit(model,device,train_loader,optimizer,criterion,phase='training')\n",
    "    losses.append(running_loss)\n",
    "    print(\"-----------------------------------epoch:\"+str(e))\n",
    "    acc=report(running_loss,preds,labels)\n",
    "    accuracy.append(acc)\n",
    "else:\n",
    "    print(\"===================================Test\")\n",
    "    end.record()\n",
    "    torch.cuda.synchronize()\n",
    "    print(\"elapesed time: {} Min\".format(start.elapsed_time(end) / 60000))\n",
    "    plt.figure()\n",
    "    plt.plot(range(epochs), losses)\n",
    "    plt.ylabel('Loss')\n",
    "    plt.xlabel('epoch');\n",
    "    plt.figure()\n",
    "    plt.plot(range(epochs), accuracy)\n",
    "    plt.ylabel('Accuracy')\n",
    "    plt.xlabel('epoch');\n",
    "    # ------------------------------------------------------------6-Validate the model\n",
    "    with torch.no_grad():\n",
    "        valid_loss,preds,labels,_=fit(model,device,test_loader,optimizer,criterion,phase=\"validation\")\n",
    "    report(valid_loss,preds,labels,phase=\"validation\")\n",
    "    #**************************************some wrong labels\n",
    "    test_load_all = torch.utils.data.DataLoader(test_dataset, batch_size=10000, shuffle=False)#need to reload without shuffle\n",
    "\n",
    "    for X_test, labels in test_load_all:\n",
    "        output = model.forward(X_test.to(device))\n",
    "        preds=[i.argmax().item() for i in output]\n",
    "        pass\n",
    "\n",
    "    minties=wrong_preds(preds,labels)\n",
    "    minties_10=minties[:10]\n",
    "    len(minties)\n",
    "    r = 12   # row size\n",
    "    row = iter(np.array_split(minties,len(minties)//r+1))\n",
    "\n",
    "    #--------rerun this to generate new\n",
    "    print(\"some misclassifications:\")\n",
    "    nextrow = next(row)\n",
    "    print(\"Index:\", nextrow)\n",
    "    print(\"Label:\",[j.item() for i,j in enumerate(labels) if i in torch.tensor(nextrow).numpy()])\n",
    "    print(\"Guess:\", [j for i,j in enumerate(preds) if i in torch.tensor(nextrow).numpy()])\n",
    "\n",
    "    images = X_test.index_select(0,torch.tensor(nextrow).to(dtype=torch.int64))\n",
    "    im = make_grid(images, nrow=r)\n",
    "    plt.figure(figsize=(10,4))\n",
    "    plt.imshow(np.transpose(im.numpy(), (1, 2, 0)));\n"
   ]
  },
  {
   "cell_type": "code",
   "execution_count": null,
   "metadata": {},
   "outputs": [],
   "source": []
  }
 ],
 "metadata": {
  "kernelspec": {
   "display_name": "Python 3",
   "language": "python",
   "name": "python3"
  },
  "language_info": {
   "codemirror_mode": {
    "name": "ipython",
    "version": 3
   },
   "file_extension": ".py",
   "mimetype": "text/x-python",
   "name": "python",
   "nbconvert_exporter": "python",
   "pygments_lexer": "ipython3",
   "version": "3.7.3"
  }
 },
 "nbformat": 4,
 "nbformat_minor": 2
}
