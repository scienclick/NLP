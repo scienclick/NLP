{
 "cells": [
  {
   "cell_type": "code",
   "execution_count": 43,
   "metadata": {},
   "outputs": [],
   "source": [
    "%matplotlib inline\n",
    "import warnings\n",
    "from collections import Counter, OrderedDict\n",
    "from pathlib import Path\n",
    "\n",
    "import numpy as np\n",
    "import pandas as pd\n",
    "from scipy import sparse\n",
    "from scipy.spatial.distance import pdist, squareform\n",
    "\n",
    "# Visualization\n",
    "import matplotlib.pyplot as plt\n",
    "from matplotlib.ticker import FuncFormatter, ScalarFormatter\n",
    "import seaborn as sns\n",
    "import ipywidgets as widgets\n",
    "from ipywidgets import interact, FloatRangeSlider\n",
    "\n",
    "# spacy for language processing\n",
    "import spacy\n",
    "nlp = spacy.load('en_core_web_sm')\n",
    "\n",
    "# sklearn for feature extraction & modeling\n",
    "from sklearn.feature_extraction.text import CountVectorizer, TfidfVectorizer, TfidfTransformer\n",
    "from sklearn.model_selection import train_test_split\n",
    "import joblib"
   ]
  },
  {
   "cell_type": "code",
   "execution_count": 3,
   "metadata": {},
   "outputs": [],
   "source": [
    "\n",
    "sns.set_style('whitegrid')\n",
    "plt.rcParams['figure.figsize'] = (14.0, 8.7)\n",
    "warnings.filterwarnings('ignore')\n",
    "pd.options.display.float_format = '{:,.2f}'.format"
   ]
  },
  {
   "cell_type": "code",
   "execution_count": 4,
   "metadata": {},
   "outputs": [],
   "source": [
    "path = Path('..', 'data', 'bbc')\n",
    "files = sorted(list(path.glob('**/*.txt')))\n",
    "doc_list = []\n",
    "for i, file in enumerate(files):\n",
    "    topic = file.parts[-2]\n",
    "    article = file.read_text(encoding='latin1').split('\\n')\n",
    "    heading = article[0].strip()\n",
    "    body = ' '.join([l.strip() for l in article[1:]]).strip()\n",
    "    doc_list.append([topic, heading, body])"
   ]
  },
  {
   "cell_type": "code",
   "execution_count": 6,
   "metadata": {},
   "outputs": [
    {
     "data": {
      "text/html": [
       "<div>\n",
       "<style scoped>\n",
       "    .dataframe tbody tr th:only-of-type {\n",
       "        vertical-align: middle;\n",
       "    }\n",
       "\n",
       "    .dataframe tbody tr th {\n",
       "        vertical-align: top;\n",
       "    }\n",
       "\n",
       "    .dataframe thead th {\n",
       "        text-align: right;\n",
       "    }\n",
       "</style>\n",
       "<table border=\"1\" class=\"dataframe\">\n",
       "  <thead>\n",
       "    <tr style=\"text-align: right;\">\n",
       "      <th></th>\n",
       "      <th>topic</th>\n",
       "      <th>heading</th>\n",
       "      <th>body</th>\n",
       "    </tr>\n",
       "  </thead>\n",
       "  <tbody>\n",
       "    <tr>\n",
       "      <th>0</th>\n",
       "      <td>business</td>\n",
       "      <td>Ad sales boost Time Warner profit</td>\n",
       "      <td>Quarterly profits at US media giant TimeWarner...</td>\n",
       "    </tr>\n",
       "    <tr>\n",
       "      <th>1</th>\n",
       "      <td>business</td>\n",
       "      <td>Dollar gains on Greenspan speech</td>\n",
       "      <td>The dollar has hit its highest level against t...</td>\n",
       "    </tr>\n",
       "    <tr>\n",
       "      <th>2</th>\n",
       "      <td>business</td>\n",
       "      <td>Yukos unit buyer faces loan claim</td>\n",
       "      <td>The owners of embattled Russian oil giant Yuko...</td>\n",
       "    </tr>\n",
       "    <tr>\n",
       "      <th>3</th>\n",
       "      <td>business</td>\n",
       "      <td>High fuel prices hit BA's profits</td>\n",
       "      <td>British Airways has blamed high fuel prices fo...</td>\n",
       "    </tr>\n",
       "    <tr>\n",
       "      <th>4</th>\n",
       "      <td>business</td>\n",
       "      <td>Pernod takeover talk lifts Domecq</td>\n",
       "      <td>Shares in UK drinks and food firm Allied Domec...</td>\n",
       "    </tr>\n",
       "  </tbody>\n",
       "</table>\n",
       "</div>"
      ],
      "text/plain": [
       "      topic                            heading  \\\n",
       "0  business  Ad sales boost Time Warner profit   \n",
       "1  business   Dollar gains on Greenspan speech   \n",
       "2  business  Yukos unit buyer faces loan claim   \n",
       "3  business  High fuel prices hit BA's profits   \n",
       "4  business  Pernod takeover talk lifts Domecq   \n",
       "\n",
       "                                                body  \n",
       "0  Quarterly profits at US media giant TimeWarner...  \n",
       "1  The dollar has hit its highest level against t...  \n",
       "2  The owners of embattled Russian oil giant Yuko...  \n",
       "3  British Airways has blamed high fuel prices fo...  \n",
       "4  Shares in UK drinks and food firm Allied Domec...  "
      ]
     },
     "execution_count": 6,
     "metadata": {},
     "output_type": "execute_result"
    }
   ],
   "source": [
    "docs = pd.DataFrame(doc_list, columns=['topic', 'heading', 'body'])\n",
    "docs.head()"
   ]
  },
  {
   "cell_type": "code",
   "execution_count": 8,
   "metadata": {},
   "outputs": [
    {
     "data": {
      "text/html": [
       "<div>\n",
       "<style scoped>\n",
       "    .dataframe tbody tr th:only-of-type {\n",
       "        vertical-align: middle;\n",
       "    }\n",
       "\n",
       "    .dataframe tbody tr th {\n",
       "        vertical-align: top;\n",
       "    }\n",
       "\n",
       "    .dataframe thead th {\n",
       "        text-align: right;\n",
       "    }\n",
       "</style>\n",
       "<table border=\"1\" class=\"dataframe\">\n",
       "  <thead>\n",
       "    <tr style=\"text-align: right;\">\n",
       "      <th></th>\n",
       "      <th>topic</th>\n",
       "      <th>heading</th>\n",
       "      <th>body</th>\n",
       "    </tr>\n",
       "  </thead>\n",
       "  <tbody>\n",
       "    <tr>\n",
       "      <th>1818</th>\n",
       "      <td>sport</td>\n",
       "      <td>Soderling wins tense Milan final</td>\n",
       "      <td>Fifth seed Robin Soderling took the Milan Indo...</td>\n",
       "    </tr>\n",
       "    <tr>\n",
       "      <th>1381</th>\n",
       "      <td>sport</td>\n",
       "      <td>GB select Holmes for double bid</td>\n",
       "      <td>Kelly Holmes has been chosen for both the 800m...</td>\n",
       "    </tr>\n",
       "    <tr>\n",
       "      <th>1700</th>\n",
       "      <td>sport</td>\n",
       "      <td>Lions blow to World Cup winners</td>\n",
       "      <td>British and Irish Lions coach Clive Woodward s...</td>\n",
       "    </tr>\n",
       "    <tr>\n",
       "      <th>1280</th>\n",
       "      <td>politics</td>\n",
       "      <td>UK pledges Â£1bn to vaccine effort</td>\n",
       "      <td>UK Chancellor Gordon Brown has offered Â£960m ...</td>\n",
       "    </tr>\n",
       "    <tr>\n",
       "      <th>117</th>\n",
       "      <td>business</td>\n",
       "      <td>Ericsson sees earnings improve</td>\n",
       "      <td>Telecoms equipment supplier Ericsson has poste...</td>\n",
       "    </tr>\n",
       "    <tr>\n",
       "      <th>2200</th>\n",
       "      <td>tech</td>\n",
       "      <td>T-Mobile bets on 'pocket office'</td>\n",
       "      <td>T-Mobile has launched its latest \"pocket offic...</td>\n",
       "    </tr>\n",
       "    <tr>\n",
       "      <th>1482</th>\n",
       "      <td>sport</td>\n",
       "      <td>FA decides not to punish Mourinho</td>\n",
       "      <td>The Football Association will take no action a...</td>\n",
       "    </tr>\n",
       "    <tr>\n",
       "      <th>870</th>\n",
       "      <td>entertainment</td>\n",
       "      <td>Super Size Me wins writers' award</td>\n",
       "      <td>Super Size Me director Morgan Spurlock has won...</td>\n",
       "    </tr>\n",
       "    <tr>\n",
       "      <th>935</th>\n",
       "      <td>politics</td>\n",
       "      <td>Lords wrong on detainees - Straw</td>\n",
       "      <td>Jack Straw has attacked the decision by Britai...</td>\n",
       "    </tr>\n",
       "    <tr>\n",
       "      <th>966</th>\n",
       "      <td>politics</td>\n",
       "      <td>Visa decision 'every 11 minutes'</td>\n",
       "      <td>Visa processing staff are sometimes expected t...</td>\n",
       "    </tr>\n",
       "  </tbody>\n",
       "</table>\n",
       "</div>"
      ],
      "text/plain": [
       "              topic                             heading  \\\n",
       "1818          sport    Soderling wins tense Milan final   \n",
       "1381          sport     GB select Holmes for double bid   \n",
       "1700          sport     Lions blow to World Cup winners   \n",
       "1280       politics  UK pledges Â£1bn to vaccine effort   \n",
       "117        business      Ericsson sees earnings improve   \n",
       "2200           tech    T-Mobile bets on 'pocket office'   \n",
       "1482          sport   FA decides not to punish Mourinho   \n",
       "870   entertainment   Super Size Me wins writers' award   \n",
       "935        politics    Lords wrong on detainees - Straw   \n",
       "966        politics    Visa decision 'every 11 minutes'   \n",
       "\n",
       "                                                   body  \n",
       "1818  Fifth seed Robin Soderling took the Milan Indo...  \n",
       "1381  Kelly Holmes has been chosen for both the 800m...  \n",
       "1700  British and Irish Lions coach Clive Woodward s...  \n",
       "1280  UK Chancellor Gordon Brown has offered Â£960m ...  \n",
       "117   Telecoms equipment supplier Ericsson has poste...  \n",
       "2200  T-Mobile has launched its latest \"pocket offic...  \n",
       "1482  The Football Association will take no action a...  \n",
       "870   Super Size Me director Morgan Spurlock has won...  \n",
       "935   Jack Straw has attacked the decision by Britai...  \n",
       "966   Visa processing staff are sometimes expected t...  "
      ]
     },
     "execution_count": 8,
     "metadata": {},
     "output_type": "execute_result"
    }
   ],
   "source": [
    "docs.sample(10)"
   ]
  },
  {
   "cell_type": "code",
   "execution_count": 11,
   "metadata": {},
   "outputs": [
    {
     "data": {
      "text/html": [
       "<style  type=\"text/css\" >\n",
       "</style><table id=\"T_dac7085c_a82f_11ea_8d2d_185680dcb3a5\" ><thead>    <tr>        <th class=\"blank level0\" ></th>        <th class=\"col_heading level0 col0\" >count</th>    </tr></thead><tbody>\n",
       "                <tr>\n",
       "                        <th id=\"T_dac7085c_a82f_11ea_8d2d_185680dcb3a5level0_row0\" class=\"row_heading level0 row0\" >sport</th>\n",
       "                        <td id=\"T_dac7085c_a82f_11ea_8d2d_185680dcb3a5row0_col0\" class=\"data row0 col0\" >22.96%</td>\n",
       "            </tr>\n",
       "            <tr>\n",
       "                        <th id=\"T_dac7085c_a82f_11ea_8d2d_185680dcb3a5level0_row1\" class=\"row_heading level0 row1\" >business</th>\n",
       "                        <td id=\"T_dac7085c_a82f_11ea_8d2d_185680dcb3a5row1_col0\" class=\"data row1 col0\" >22.91%</td>\n",
       "            </tr>\n",
       "            <tr>\n",
       "                        <th id=\"T_dac7085c_a82f_11ea_8d2d_185680dcb3a5level0_row2\" class=\"row_heading level0 row2\" >politics</th>\n",
       "                        <td id=\"T_dac7085c_a82f_11ea_8d2d_185680dcb3a5row2_col0\" class=\"data row2 col0\" >18.73%</td>\n",
       "            </tr>\n",
       "            <tr>\n",
       "                        <th id=\"T_dac7085c_a82f_11ea_8d2d_185680dcb3a5level0_row3\" class=\"row_heading level0 row3\" >tech</th>\n",
       "                        <td id=\"T_dac7085c_a82f_11ea_8d2d_185680dcb3a5row3_col0\" class=\"data row3 col0\" >18.01%</td>\n",
       "            </tr>\n",
       "            <tr>\n",
       "                        <th id=\"T_dac7085c_a82f_11ea_8d2d_185680dcb3a5level0_row4\" class=\"row_heading level0 row4\" >entertainment</th>\n",
       "                        <td id=\"T_dac7085c_a82f_11ea_8d2d_185680dcb3a5row4_col0\" class=\"data row4 col0\" >17.34%</td>\n",
       "            </tr>\n",
       "            <tr>\n",
       "                        <th id=\"T_dac7085c_a82f_11ea_8d2d_185680dcb3a5level0_row5\" class=\"row_heading level0 row5\" >bbc</th>\n",
       "                        <td id=\"T_dac7085c_a82f_11ea_8d2d_185680dcb3a5row5_col0\" class=\"data row5 col0\" >0.04%</td>\n",
       "            </tr>\n",
       "    </tbody></table>"
      ],
      "text/plain": [
       "<pandas.io.formats.style.Styler at 0x2257252ebe0>"
      ]
     },
     "execution_count": 11,
     "metadata": {},
     "output_type": "execute_result"
    }
   ],
   "source": [
    "docs.topic.value_counts(normalize=True).to_frame('count').style.format({'count': '{:,.2%}'.format})"
   ]
  },
  {
   "cell_type": "markdown",
   "metadata": {},
   "source": [
    "## Explore Corpus"
   ]
  },
  {
   "cell_type": "code",
   "execution_count": 19,
   "metadata": {},
   "outputs": [
    {
     "name": "stdout",
     "output_type": "stream",
     "text": [
      "Total word count: 842,975 | per article: 379\n"
     ]
    }
   ],
   "source": [
    "word_count = docs.body.str.split().str.len().sum()\n",
    "print(f'Total word count: {word_count:,d} | per article: {word_count/len(docs):,.0f}')"
   ]
  },
  {
   "cell_type": "code",
   "execution_count": 58,
   "metadata": {},
   "outputs": [
    {
     "name": "stdout",
     "output_type": "stream",
     "text": [
      "500 1000 1500 2000 "
     ]
    }
   ],
   "source": [
    "token_count = Counter()\n",
    "for i, doc in enumerate(docs.body.tolist(), 1):\n",
    "    if i % 500 == 0:\n",
    "        print(i, end=' ', flush=True)\n",
    "    token_count.update([t.strip() for t in doc.split() if t not in nlp.Defaults.stop_words])"
   ]
  },
  {
   "cell_type": "code",
   "execution_count": 59,
   "metadata": {},
   "outputs": [
    {
     "data": {
      "text/html": [
       "<div>\n",
       "<style scoped>\n",
       "    .dataframe tbody tr th:only-of-type {\n",
       "        vertical-align: middle;\n",
       "    }\n",
       "\n",
       "    .dataframe tbody tr th {\n",
       "        vertical-align: top;\n",
       "    }\n",
       "\n",
       "    .dataframe thead th {\n",
       "        text-align: right;\n",
       "    }\n",
       "</style>\n",
       "<table border=\"1\" class=\"dataframe\">\n",
       "  <thead>\n",
       "    <tr style=\"text-align: right;\">\n",
       "      <th></th>\n",
       "      <th>count</th>\n",
       "    </tr>\n",
       "    <tr>\n",
       "      <th>token</th>\n",
       "      <th></th>\n",
       "    </tr>\n",
       "  </thead>\n",
       "  <tbody>\n",
       "    <tr>\n",
       "      <th>said</th>\n",
       "      <td>4899</td>\n",
       "    </tr>\n",
       "    <tr>\n",
       "      <th>-</th>\n",
       "      <td>3182</td>\n",
       "    </tr>\n",
       "    <tr>\n",
       "      <th>Mr</th>\n",
       "      <td>2979</td>\n",
       "    </tr>\n",
       "    <tr>\n",
       "      <th>I</th>\n",
       "      <td>2234</td>\n",
       "    </tr>\n",
       "    <tr>\n",
       "      <th>people</th>\n",
       "      <td>1692</td>\n",
       "    </tr>\n",
       "    <tr>\n",
       "      <th>...</th>\n",
       "      <td>...</td>\n",
       "    </tr>\n",
       "    <tr>\n",
       "      <th>\"online</th>\n",
       "      <td>1</td>\n",
       "    </tr>\n",
       "    <tr>\n",
       "      <th>universe\"</th>\n",
       "      <td>1</td>\n",
       "    </tr>\n",
       "    <tr>\n",
       "      <th>24hours,</th>\n",
       "      <td>1</td>\n",
       "    </tr>\n",
       "    <tr>\n",
       "      <th>ahhhh</th>\n",
       "      <td>1</td>\n",
       "    </tr>\n",
       "    <tr>\n",
       "      <th>LOL</th>\n",
       "      <td>1</td>\n",
       "    </tr>\n",
       "  </tbody>\n",
       "</table>\n",
       "<p>64513 rows × 1 columns</p>\n",
       "</div>"
      ],
      "text/plain": [
       "           count\n",
       "token           \n",
       "said        4899\n",
       "-           3182\n",
       "Mr          2979\n",
       "I           2234\n",
       "people      1692\n",
       "...          ...\n",
       "\"online        1\n",
       "universe\"      1\n",
       "24hours,       1\n",
       "ahhhh          1\n",
       "LOL            1\n",
       "\n",
       "[64513 rows x 1 columns]"
      ]
     },
     "execution_count": 59,
     "metadata": {},
     "output_type": "execute_result"
    }
   ],
   "source": [
    "tokens = pd.DataFrame(token_count.most_common(), columns=['token', 'count']).set_index('token')\n",
    "tokens"
   ]
  },
  {
   "cell_type": "code",
   "execution_count": 50,
   "metadata": {},
   "outputs": [
    {
     "data": {
      "text/plain": [
       "<matplotlib.axes._subplots.AxesSubplot at 0x2250c01a550>"
      ]
     },
     "execution_count": 50,
     "metadata": {},
     "output_type": "execute_result"
    },
    {
     "data": {
      "image/png": "[encoded data removed]",
      "text/plain": [
       "<Figure size 1008x288 with 1 Axes>"
      ]
     },
     "metadata": {
      "needs_background": "light"
     },
     "output_type": "display_data"
    }
   ],
   "source": [
    "tokens['count'].head(50).plot(kind='bar',figsize=(14, 4))"
   ]
  },
  {
   "cell_type": "code",
   "execution_count": 60,
   "metadata": {},
   "outputs": [],
   "source": [
    "# #to add as stop word\n",
    "# nlp.Defaults.stop_words.add('The')\n",
    "# nlp.vocab['btw'].is_stop = True\n",
    "# nlp.vocab['btw'].is_stop = Fase # to remove"
   ]
  },
  {
   "cell_type": "markdown",
   "metadata": {},
   "source": [
    "## Vectorizers"
   ]
  },
  {
   "cell_type": "code",
   "execution_count": 61,
   "metadata": {
    "scrolled": true
   },
   "outputs": [
    {
     "name": "stdout",
     "output_type": "stream",
     "text": [
      "Convert a collection of text documents to a matrix of token counts\n",
      "\n",
      "    This implementation produces a sparse representation of the counts using\n",
      "    scipy.sparse.csr_matrix.\n",
      "\n",
      "    If you do not provide an a-priori dictionary and you do not use an analyzer\n",
      "    that does some kind of feature selection then the number of features will\n",
      "    be equal to the vocabulary size found by analyzing the data.\n",
      "\n",
      "    Read more in the :ref:`User Guide <text_feature_extraction>`.\n",
      "\n",
      "    Parameters\n",
      "    ----------\n",
      "    input : string {'filename', 'file', 'content'}\n",
      "        If 'filename', the sequence passed as an argument to fit is\n",
      "        expected to be a list of filenames that need reading to fetch\n",
      "        the raw content to analyze.\n",
      "\n",
      "        If 'file', the sequence items must have a 'read' method (file-like\n",
      "        object) that is called to fetch the bytes in memory.\n",
      "\n",
      "        Otherwise the input is expected to be a sequence of items that\n",
      "        can be of type string or byte.\n",
      "\n",
      "    encoding : string, 'utf-8' by default.\n",
      "        If bytes or files are given to analyze, this encoding is used to\n",
      "        decode.\n",
      "\n",
      "    decode_error : {'strict', 'ignore', 'replace'}\n",
      "        Instruction on what to do if a byte sequence is given to analyze that\n",
      "        contains characters not of the given `encoding`. By default, it is\n",
      "        'strict', meaning that a UnicodeDecodeError will be raised. Other\n",
      "        values are 'ignore' and 'replace'.\n",
      "\n",
      "    strip_accents : {'ascii', 'unicode', None}\n",
      "        Remove accents and perform other character normalization\n",
      "        during the preprocessing step.\n",
      "        'ascii' is a fast method that only works on characters that have\n",
      "        an direct ASCII mapping.\n",
      "        'unicode' is a slightly slower method that works on any characters.\n",
      "        None (default) does nothing.\n",
      "\n",
      "        Both 'ascii' and 'unicode' use NFKD normalization from\n",
      "        :func:`unicodedata.normalize`.\n",
      "\n",
      "    lowercase : boolean, True by default\n",
      "        Convert all characters to lowercase before tokenizing.\n",
      "\n",
      "    preprocessor : callable or None (default)\n",
      "        Override the preprocessing (string transformation) stage while\n",
      "        preserving the tokenizing and n-grams generation steps.\n",
      "        Only applies if ``analyzer is not callable``.\n",
      "\n",
      "    tokenizer : callable or None (default)\n",
      "        Override the string tokenization step while preserving the\n",
      "        preprocessing and n-grams generation steps.\n",
      "        Only applies if ``analyzer == 'word'``.\n",
      "\n",
      "    stop_words : string {'english'}, list, or None (default)\n",
      "        If 'english', a built-in stop word list for English is used.\n",
      "        There are several known issues with 'english' and you should\n",
      "        consider an alternative (see :ref:`stop_words`).\n",
      "\n",
      "        If a list, that list is assumed to contain stop words, all of which\n",
      "        will be removed from the resulting tokens.\n",
      "        Only applies if ``analyzer == 'word'``.\n",
      "\n",
      "        If None, no stop words will be used. max_df can be set to a value\n",
      "        in the range [0.7, 1.0) to automatically detect and filter stop\n",
      "        words based on intra corpus document frequency of terms.\n",
      "\n",
      "    token_pattern : string\n",
      "        Regular expression denoting what constitutes a \"token\", only used\n",
      "        if ``analyzer == 'word'``. The default regexp select tokens of 2\n",
      "        or more alphanumeric characters (punctuation is completely ignored\n",
      "        and always treated as a token separator).\n",
      "\n",
      "    ngram_range : tuple (min_n, max_n), default=(1, 1)\n",
      "        The lower and upper boundary of the range of n-values for different\n",
      "        word n-grams or char n-grams to be extracted. All values of n such\n",
      "        such that min_n <= n <= max_n will be used. For example an\n",
      "        ``ngram_range`` of ``(1, 1)`` means only unigrams, ``(1, 2)`` means\n",
      "        unigrams and bigrams, and ``(2, 2)`` means only bigrams.\n",
      "        Only applies if ``analyzer is not callable``.\n",
      "\n",
      "    analyzer : string, {'word', 'char', 'char_wb'} or callable\n",
      "        Whether the feature should be made of word n-gram or character\n",
      "        n-grams.\n",
      "        Option 'char_wb' creates character n-grams only from text inside\n",
      "        word boundaries; n-grams at the edges of words are padded with space.\n",
      "\n",
      "        If a callable is passed it is used to extract the sequence of features\n",
      "        out of the raw, unprocessed input.\n",
      "\n",
      "        .. versionchanged:: 0.21\n",
      "\n",
      "        Since v0.21, if ``input`` is ``filename`` or ``file``, the data is\n",
      "        first read from the file and then passed to the given callable\n",
      "        analyzer.\n",
      "\n",
      "    max_df : float in range [0.0, 1.0] or int, default=1.0\n",
      "        When building the vocabulary ignore terms that have a document\n",
      "        frequency strictly higher than the given threshold (corpus-specific\n",
      "        stop words).\n",
      "        If float, the parameter represents a proportion of documents, integer\n",
      "        absolute counts.\n",
      "        This parameter is ignored if vocabulary is not None.\n",
      "\n",
      "    min_df : float in range [0.0, 1.0] or int, default=1\n",
      "        When building the vocabulary ignore terms that have a document\n",
      "        frequency strictly lower than the given threshold. This value is also\n",
      "        called cut-off in the literature.\n",
      "        If float, the parameter represents a proportion of documents, integer\n",
      "        absolute counts.\n",
      "        This parameter is ignored if vocabulary is not None.\n",
      "\n",
      "    max_features : int or None, default=None\n",
      "        If not None, build a vocabulary that only consider the top\n",
      "        max_features ordered by term frequency across the corpus.\n",
      "\n",
      "        This parameter is ignored if vocabulary is not None.\n",
      "\n",
      "    vocabulary : Mapping or iterable, optional\n",
      "        Either a Mapping (e.g., a dict) where keys are terms and values are\n",
      "        indices in the feature matrix, or an iterable over terms. If not\n",
      "        given, a vocabulary is determined from the input documents. Indices\n",
      "        in the mapping should not be repeated and should not have any gap\n",
      "        between 0 and the largest index.\n",
      "\n",
      "    binary : boolean, default=False\n",
      "        If True, all non zero counts are set to 1. This is useful for discrete\n",
      "        probabilistic models that model binary events rather than integer\n",
      "        counts.\n",
      "\n",
      "    dtype : type, optional\n",
      "        Type of the matrix returned by fit_transform() or transform().\n",
      "\n",
      "    Attributes\n",
      "    ----------\n",
      "    vocabulary_ : dict\n",
      "        A mapping of terms to feature indices.\n",
      "\n",
      "    fixed_vocabulary_: boolean\n",
      "        True if a fixed vocabulary of term to indices mapping\n",
      "        is provided by the user\n",
      "\n",
      "    stop_words_ : set\n",
      "        Terms that were ignored because they either:\n",
      "\n",
      "          - occurred in too many documents (`max_df`)\n",
      "          - occurred in too few documents (`min_df`)\n",
      "          - were cut off by feature selection (`max_features`).\n",
      "\n",
      "        This is only available if no vocabulary was given.\n",
      "\n",
      "    Examples\n",
      "    --------\n",
      "    >>> from sklearn.feature_extraction.text import CountVectorizer\n",
      "    >>> corpus = [\n",
      "    ...     'This is the first document.',\n",
      "    ...     'This document is the second document.',\n",
      "    ...     'And this is the third one.',\n",
      "    ...     'Is this the first document?',\n",
      "    ... ]\n",
      "    >>> vectorizer = CountVectorizer()\n",
      "    >>> X = vectorizer.fit_transform(corpus)\n",
      "    >>> print(vectorizer.get_feature_names())\n",
      "    ['and', 'document', 'first', 'is', 'one', 'second', 'the', 'third', 'this']\n",
      "    >>> print(X.toarray())\n",
      "    [[0 1 1 1 0 0 1 0 1]\n",
      "     [0 2 0 1 0 1 1 0 1]\n",
      "     [1 0 0 1 1 0 1 1 1]\n",
      "     [0 1 1 1 0 0 1 0 1]]\n",
      "    >>> vectorizer2 = CountVectorizer(analyzer='word', ngram_range=(2, 2))\n",
      "    >>> X2 = vectorizer2.fit_transform(corpus)\n",
      "    >>> print(vectorizer2.get_feature_names())\n",
      "    ['and this', 'document is', 'first document', 'is the', 'is this',\n",
      "    'second document', 'the first', 'the second', 'the third', 'third one',\n",
      "     'this document', 'this is', 'this the']\n",
      "     >>> print(X2.toarray())\n",
      "     [[0 0 1 1 0 0 1 0 0 0 0 1 0]\n",
      "     [0 1 0 1 0 1 0 1 0 0 1 0 0]\n",
      "     [1 0 0 1 0 0 0 0 1 1 0 1 0]\n",
      "     [0 0 1 0 1 0 1 0 0 0 0 0 1]]\n",
      "\n",
      "    See Also\n",
      "    --------\n",
      "    HashingVectorizer, TfidfVectorizer\n",
      "\n",
      "    Notes\n",
      "    -----\n",
      "    The ``stop_words_`` attribute can get large and increase the model size\n",
      "    when pickling. This attribute is provided only for introspection and can\n",
      "    be safely removed using delattr or set to None before pickling.\n",
      "    \n"
     ]
    }
   ],
   "source": [
    "print(CountVectorizer().__doc__)"
   ]
  },
  {
   "cell_type": "code",
   "execution_count": 67,
   "metadata": {},
   "outputs": [
    {
     "data": {
      "text/html": [
       "<div>\n",
       "<style scoped>\n",
       "    .dataframe tbody tr th:only-of-type {\n",
       "        vertical-align: middle;\n",
       "    }\n",
       "\n",
       "    .dataframe tbody tr th {\n",
       "        vertical-align: top;\n",
       "    }\n",
       "\n",
       "    .dataframe thead th {\n",
       "        text-align: right;\n",
       "    }\n",
       "</style>\n",
       "<table border=\"1\" class=\"dataframe\">\n",
       "  <thead>\n",
       "    <tr style=\"text-align: right;\">\n",
       "      <th></th>\n",
       "      <th>topic</th>\n",
       "      <th>heading</th>\n",
       "      <th>body</th>\n",
       "    </tr>\n",
       "  </thead>\n",
       "  <tbody>\n",
       "    <tr>\n",
       "      <th>0</th>\n",
       "      <td>business</td>\n",
       "      <td>Ad sales boost Time Warner profit</td>\n",
       "      <td>Quarterly profits at US media giant TimeWarner...</td>\n",
       "    </tr>\n",
       "    <tr>\n",
       "      <th>1</th>\n",
       "      <td>business</td>\n",
       "      <td>Dollar gains on Greenspan speech</td>\n",
       "      <td>The dollar has hit its highest level against t...</td>\n",
       "    </tr>\n",
       "    <tr>\n",
       "      <th>2</th>\n",
       "      <td>business</td>\n",
       "      <td>Yukos unit buyer faces loan claim</td>\n",
       "      <td>The owners of embattled Russian oil giant Yuko...</td>\n",
       "    </tr>\n",
       "    <tr>\n",
       "      <th>3</th>\n",
       "      <td>business</td>\n",
       "      <td>High fuel prices hit BA's profits</td>\n",
       "      <td>British Airways has blamed high fuel prices fo...</td>\n",
       "    </tr>\n",
       "    <tr>\n",
       "      <th>4</th>\n",
       "      <td>business</td>\n",
       "      <td>Pernod takeover talk lifts Domecq</td>\n",
       "      <td>Shares in UK drinks and food firm Allied Domec...</td>\n",
       "    </tr>\n",
       "    <tr>\n",
       "      <th>...</th>\n",
       "      <td>...</td>\n",
       "      <td>...</td>\n",
       "      <td>...</td>\n",
       "    </tr>\n",
       "    <tr>\n",
       "      <th>2221</th>\n",
       "      <td>tech</td>\n",
       "      <td>BT program to beat dialler scams</td>\n",
       "      <td>BT is introducing two initiatives to help beat...</td>\n",
       "    </tr>\n",
       "    <tr>\n",
       "      <th>2222</th>\n",
       "      <td>tech</td>\n",
       "      <td>Spam e-mails tempt net shoppers</td>\n",
       "      <td>Computer users across the world continue to ig...</td>\n",
       "    </tr>\n",
       "    <tr>\n",
       "      <th>2223</th>\n",
       "      <td>tech</td>\n",
       "      <td>Be careful how you code</td>\n",
       "      <td>A new European directive could put software wr...</td>\n",
       "    </tr>\n",
       "    <tr>\n",
       "      <th>2224</th>\n",
       "      <td>tech</td>\n",
       "      <td>US cyber security chief resigns</td>\n",
       "      <td>The man making sure US computer networks are s...</td>\n",
       "    </tr>\n",
       "    <tr>\n",
       "      <th>2225</th>\n",
       "      <td>tech</td>\n",
       "      <td>Losing yourself in online gaming</td>\n",
       "      <td>Online role playing games are time-consuming, ...</td>\n",
       "    </tr>\n",
       "  </tbody>\n",
       "</table>\n",
       "<p>2226 rows × 3 columns</p>\n",
       "</div>"
      ],
      "text/plain": [
       "         topic                            heading  \\\n",
       "0     business  Ad sales boost Time Warner profit   \n",
       "1     business   Dollar gains on Greenspan speech   \n",
       "2     business  Yukos unit buyer faces loan claim   \n",
       "3     business  High fuel prices hit BA's profits   \n",
       "4     business  Pernod takeover talk lifts Domecq   \n",
       "...        ...                                ...   \n",
       "2221      tech   BT program to beat dialler scams   \n",
       "2222      tech    Spam e-mails tempt net shoppers   \n",
       "2223      tech            Be careful how you code   \n",
       "2224      tech    US cyber security chief resigns   \n",
       "2225      tech   Losing yourself in online gaming   \n",
       "\n",
       "                                                   body  \n",
       "0     Quarterly profits at US media giant TimeWarner...  \n",
       "1     The dollar has hit its highest level against t...  \n",
       "2     The owners of embattled Russian oil giant Yuko...  \n",
       "3     British Airways has blamed high fuel prices fo...  \n",
       "4     Shares in UK drinks and food firm Allied Domec...  \n",
       "...                                                 ...  \n",
       "2221  BT is introducing two initiatives to help beat...  \n",
       "2222  Computer users across the world continue to ig...  \n",
       "2223  A new European directive could put software wr...  \n",
       "2224  The man making sure US computer networks are s...  \n",
       "2225  Online role playing games are time-consuming, ...  \n",
       "\n",
       "[2226 rows x 3 columns]"
      ]
     },
     "execution_count": 67,
     "metadata": {},
     "output_type": "execute_result"
    }
   ],
   "source": [
    "docs"
   ]
  },
  {
   "cell_type": "code",
   "execution_count": 68,
   "metadata": {},
   "outputs": [],
   "source": [
    "binary_vectorizer = CountVectorizer(max_df=1.0,\n",
    "                                    min_df=1,\n",
    "                                    binary=True)\n",
    "\n",
    "binary_dtm = binary_vectorizer.fit_transform(docs.body)"
   ]
  },
  {
   "cell_type": "code",
   "execution_count": 69,
   "metadata": {},
   "outputs": [],
   "source": [
    "m = binary_dtm.todense()"
   ]
  },
  {
   "cell_type": "code",
   "execution_count": 70,
   "metadata": {},
   "outputs": [
    {
     "data": {
      "text/plain": [
       "matrix([[0, 1, 0, ..., 0, 0, 0],\n",
       "        [0, 0, 0, ..., 0, 0, 0],\n",
       "        [0, 0, 0, ..., 0, 0, 0],\n",
       "        ...,\n",
       "        [0, 0, 0, ..., 0, 0, 0],\n",
       "        [0, 0, 0, ..., 0, 0, 0],\n",
       "        [0, 1, 0, ..., 0, 0, 0]], dtype=int64)"
      ]
     },
     "execution_count": 70,
     "metadata": {},
     "output_type": "execute_result"
    }
   ],
   "source": [
    "m"
   ]
  },
  {
   "cell_type": "markdown",
   "metadata": {},
   "source": [
    "### most simmilar"
   ]
  },
  {
   "cell_type": "code",
   "execution_count": 71,
   "metadata": {},
   "outputs": [],
   "source": [
    "pairwise_distances = pdist(m, metric='cosine')"
   ]
  },
  {
   "cell_type": "code",
   "execution_count": 72,
   "metadata": {},
   "outputs": [],
   "source": [
    "closest = np.argmin(pairwise_distances)"
   ]
  },
  {
   "cell_type": "code",
   "execution_count": 73,
   "metadata": {},
   "outputs": [
    {
     "data": {
      "text/plain": [
       "(6, 245)"
      ]
     },
     "execution_count": 73,
     "metadata": {},
     "output_type": "execute_result"
    }
   ],
   "source": [
    "rows, cols = np.triu_indices(n_docs)\n",
    "rows[closest], cols[closest]"
   ]
  },
  {
   "cell_type": "code",
   "execution_count": 74,
   "metadata": {},
   "outputs": [
    {
     "data": {
      "text/plain": [
       "topic                                               business\n",
       "heading                     Jobs growth still slow in the US\n",
       "body       The US created fewer jobs than expected in Jan...\n",
       "Name: 6, dtype: object"
      ]
     },
     "execution_count": 74,
     "metadata": {},
     "output_type": "execute_result"
    }
   ],
   "source": [
    "docs.iloc[6]"
   ]
  },
  {
   "cell_type": "code",
   "execution_count": 75,
   "metadata": {},
   "outputs": [
    {
     "data": {
      "text/plain": [
       "topic                                               business\n",
       "heading                     Ebbers 'aware' of WorldCom fraud\n",
       "body       Former WorldCom boss Bernie Ebbers was directl...\n",
       "Name: 245, dtype: object"
      ]
     },
     "execution_count": 75,
     "metadata": {},
     "output_type": "execute_result"
    }
   ],
   "source": [
    "docs.iloc[245]"
   ]
  },
  {
   "cell_type": "code",
   "execution_count": 76,
   "metadata": {},
   "outputs": [
    {
     "data": {
      "text/html": [
       "<div>\n",
       "<style scoped>\n",
       "    .dataframe tbody tr th:only-of-type {\n",
       "        vertical-align: middle;\n",
       "    }\n",
       "\n",
       "    .dataframe tbody tr th {\n",
       "        vertical-align: top;\n",
       "    }\n",
       "\n",
       "    .dataframe thead th {\n",
       "        text-align: right;\n",
       "    }\n",
       "</style>\n",
       "<table border=\"1\" class=\"dataframe\">\n",
       "  <thead>\n",
       "    <tr style=\"text-align: right;\">\n",
       "      <th></th>\n",
       "      <th>0</th>\n",
       "      <th>1</th>\n",
       "      <th>2</th>\n",
       "      <th>3</th>\n",
       "      <th>4</th>\n",
       "      <th>5</th>\n",
       "      <th>6</th>\n",
       "      <th>7</th>\n",
       "      <th>8</th>\n",
       "      <th>9</th>\n",
       "      <th>...</th>\n",
       "      <th>29276</th>\n",
       "      <th>29277</th>\n",
       "      <th>29278</th>\n",
       "      <th>29279</th>\n",
       "      <th>29280</th>\n",
       "      <th>29281</th>\n",
       "      <th>29282</th>\n",
       "      <th>29283</th>\n",
       "      <th>29284</th>\n",
       "      <th>29285</th>\n",
       "    </tr>\n",
       "  </thead>\n",
       "  <tbody>\n",
       "    <tr>\n",
       "      <th>0</th>\n",
       "      <td>0</td>\n",
       "      <td>1</td>\n",
       "      <td>0</td>\n",
       "      <td>0</td>\n",
       "      <td>0</td>\n",
       "      <td>0</td>\n",
       "      <td>0</td>\n",
       "      <td>0</td>\n",
       "      <td>0</td>\n",
       "      <td>0</td>\n",
       "      <td>...</td>\n",
       "      <td>0</td>\n",
       "      <td>0</td>\n",
       "      <td>0</td>\n",
       "      <td>0</td>\n",
       "      <td>0</td>\n",
       "      <td>0</td>\n",
       "      <td>0</td>\n",
       "      <td>0</td>\n",
       "      <td>0</td>\n",
       "      <td>0</td>\n",
       "    </tr>\n",
       "    <tr>\n",
       "      <th>1</th>\n",
       "      <td>0</td>\n",
       "      <td>0</td>\n",
       "      <td>0</td>\n",
       "      <td>0</td>\n",
       "      <td>0</td>\n",
       "      <td>0</td>\n",
       "      <td>0</td>\n",
       "      <td>0</td>\n",
       "      <td>0</td>\n",
       "      <td>0</td>\n",
       "      <td>...</td>\n",
       "      <td>0</td>\n",
       "      <td>0</td>\n",
       "      <td>0</td>\n",
       "      <td>0</td>\n",
       "      <td>0</td>\n",
       "      <td>0</td>\n",
       "      <td>0</td>\n",
       "      <td>0</td>\n",
       "      <td>0</td>\n",
       "      <td>0</td>\n",
       "    </tr>\n",
       "  </tbody>\n",
       "</table>\n",
       "<p>2 rows × 29286 columns</p>\n",
       "</div>"
      ],
      "text/plain": [
       "   0      1      2      3      4      5      6      7      8      9      ...  \\\n",
       "0      0      1      0      0      0      0      0      0      0      0  ...   \n",
       "1      0      0      0      0      0      0      0      0      0      0  ...   \n",
       "\n",
       "   29276  29277  29278  29279  29280  29281  29282  29283  29284  29285  \n",
       "0      0      0      0      0      0      0      0      0      0      0  \n",
       "1      0      0      0      0      0      0      0      0      0      0  \n",
       "\n",
       "[2 rows x 29286 columns]"
      ]
     },
     "execution_count": 76,
     "metadata": {},
     "output_type": "execute_result"
    }
   ],
   "source": [
    "pd.DataFrame(binary_dtm[[6, 245], :].todense())"
   ]
  },
  {
   "cell_type": "code",
   "execution_count": 77,
   "metadata": {},
   "outputs": [
    {
     "data": {
      "text/plain": [
       "0        0\n",
       "1        1\n",
       "2        0\n",
       "3        0\n",
       "4        0\n",
       "        ..\n",
       "29281    0\n",
       "29282    0\n",
       "29283    0\n",
       "29284    0\n",
       "29285    0\n",
       "Length: 29286, dtype: int64"
      ]
     },
     "execution_count": 77,
     "metadata": {},
     "output_type": "execute_result"
    }
   ],
   "source": [
    "pd.DataFrame(binary_dtm[[6, 245], :].todense()).sum(0)"
   ]
  },
  {
   "cell_type": "code",
   "execution_count": 78,
   "metadata": {},
   "outputs": [
    {
     "data": {
      "text/plain": [
       "0    28983\n",
       "1      265\n",
       "2       38\n",
       "dtype: int64"
      ]
     },
     "execution_count": 78,
     "metadata": {},
     "output_type": "execute_result"
    }
   ],
   "source": [
    "pd.DataFrame(binary_dtm[[6, 245], :].todense()).sum(0).value_counts()"
   ]
  },
  {
   "cell_type": "code",
   "execution_count": 79,
   "metadata": {},
   "outputs": [],
   "source": [
    "#38 common words"
   ]
  },
  {
   "cell_type": "markdown",
   "metadata": {},
   "source": [
    "## Baseline document-term matrix¶\n"
   ]
  },
  {
   "cell_type": "code",
   "execution_count": 80,
   "metadata": {},
   "outputs": [
    {
     "data": {
      "text/plain": [
       "<2226x29286 sparse matrix of type '<class 'numpy.int64'>'\n",
       "\twith 445926 stored elements in Compressed Sparse Row format>"
      ]
     },
     "execution_count": 80,
     "metadata": {},
     "output_type": "execute_result"
    }
   ],
   "source": [
    "\n",
    "# Baseline: number of unique tokens\n",
    "vectorizer = CountVectorizer() # default: binary=False\n",
    "doc_term_matrix = vectorizer.fit_transform(docs.body)\n",
    "doc_term_matrix"
   ]
  },
  {
   "cell_type": "code",
   "execution_count": 81,
   "metadata": {},
   "outputs": [
    {
     "data": {
      "text/plain": [
       "(2226, 29286)"
      ]
     },
     "execution_count": 81,
     "metadata": {},
     "output_type": "execute_result"
    }
   ],
   "source": [
    "doc_term_matrix.shape"
   ]
  },
  {
   "cell_type": "code",
   "execution_count": 92,
   "metadata": {},
   "outputs": [
    {
     "data": {
      "text/plain": [
       "['zooms',\n",
       " 'zooropa',\n",
       " 'zornotza',\n",
       " 'zorro',\n",
       " 'zubair',\n",
       " 'zuluaga',\n",
       " 'zurich',\n",
       " 'zutons',\n",
       " 'zvonareva',\n",
       " 'zvyagintsev']"
      ]
     },
     "execution_count": 92,
     "metadata": {},
     "output_type": "execute_result"
    }
   ],
   "source": [
    "\n",
    "# vectorizer keeps words\n",
    "words = vectorizer.get_feature_names()\n",
    "words[-10:]"
   ]
  },
  {
   "cell_type": "code",
   "execution_count": 93,
   "metadata": {},
   "outputs": [
    {
     "data": {
      "text/html": [
       "<div>\n",
       "<style scoped>\n",
       "    .dataframe tbody tr th:only-of-type {\n",
       "        vertical-align: middle;\n",
       "    }\n",
       "\n",
       "    .dataframe tbody tr th {\n",
       "        vertical-align: top;\n",
       "    }\n",
       "\n",
       "    .dataframe thead th {\n",
       "        text-align: right;\n",
       "    }\n",
       "</style>\n",
       "<table border=\"1\" class=\"dataframe\">\n",
       "  <thead>\n",
       "    <tr style=\"text-align: right;\">\n",
       "      <th></th>\n",
       "      <th>00</th>\n",
       "      <th>000</th>\n",
       "      <th>0001</th>\n",
       "      <th>000bn</th>\n",
       "      <th>000m</th>\n",
       "      <th>000s</th>\n",
       "      <th>000th</th>\n",
       "      <th>001</th>\n",
       "      <th>001and</th>\n",
       "      <th>001st</th>\n",
       "      <th>...</th>\n",
       "      <th>zooms</th>\n",
       "      <th>zooropa</th>\n",
       "      <th>zornotza</th>\n",
       "      <th>zorro</th>\n",
       "      <th>zubair</th>\n",
       "      <th>zuluaga</th>\n",
       "      <th>zurich</th>\n",
       "      <th>zutons</th>\n",
       "      <th>zvonareva</th>\n",
       "      <th>zvyagintsev</th>\n",
       "    </tr>\n",
       "  </thead>\n",
       "  <tbody>\n",
       "    <tr>\n",
       "      <th>2221</th>\n",
       "      <td>0</td>\n",
       "      <td>2</td>\n",
       "      <td>0</td>\n",
       "      <td>0</td>\n",
       "      <td>0</td>\n",
       "      <td>0</td>\n",
       "      <td>0</td>\n",
       "      <td>0</td>\n",
       "      <td>0</td>\n",
       "      <td>0</td>\n",
       "      <td>...</td>\n",
       "      <td>0</td>\n",
       "      <td>0</td>\n",
       "      <td>0</td>\n",
       "      <td>0</td>\n",
       "      <td>0</td>\n",
       "      <td>0</td>\n",
       "      <td>0</td>\n",
       "      <td>0</td>\n",
       "      <td>0</td>\n",
       "      <td>0</td>\n",
       "    </tr>\n",
       "    <tr>\n",
       "      <th>2222</th>\n",
       "      <td>0</td>\n",
       "      <td>1</td>\n",
       "      <td>0</td>\n",
       "      <td>0</td>\n",
       "      <td>0</td>\n",
       "      <td>0</td>\n",
       "      <td>0</td>\n",
       "      <td>0</td>\n",
       "      <td>0</td>\n",
       "      <td>0</td>\n",
       "      <td>...</td>\n",
       "      <td>0</td>\n",
       "      <td>0</td>\n",
       "      <td>0</td>\n",
       "      <td>0</td>\n",
       "      <td>0</td>\n",
       "      <td>0</td>\n",
       "      <td>0</td>\n",
       "      <td>0</td>\n",
       "      <td>0</td>\n",
       "      <td>0</td>\n",
       "    </tr>\n",
       "    <tr>\n",
       "      <th>2223</th>\n",
       "      <td>0</td>\n",
       "      <td>0</td>\n",
       "      <td>0</td>\n",
       "      <td>0</td>\n",
       "      <td>0</td>\n",
       "      <td>0</td>\n",
       "      <td>0</td>\n",
       "      <td>0</td>\n",
       "      <td>0</td>\n",
       "      <td>0</td>\n",
       "      <td>...</td>\n",
       "      <td>0</td>\n",
       "      <td>0</td>\n",
       "      <td>0</td>\n",
       "      <td>0</td>\n",
       "      <td>0</td>\n",
       "      <td>0</td>\n",
       "      <td>0</td>\n",
       "      <td>0</td>\n",
       "      <td>0</td>\n",
       "      <td>0</td>\n",
       "    </tr>\n",
       "    <tr>\n",
       "      <th>2224</th>\n",
       "      <td>0</td>\n",
       "      <td>0</td>\n",
       "      <td>0</td>\n",
       "      <td>0</td>\n",
       "      <td>0</td>\n",
       "      <td>0</td>\n",
       "      <td>0</td>\n",
       "      <td>0</td>\n",
       "      <td>0</td>\n",
       "      <td>0</td>\n",
       "      <td>...</td>\n",
       "      <td>0</td>\n",
       "      <td>0</td>\n",
       "      <td>0</td>\n",
       "      <td>0</td>\n",
       "      <td>0</td>\n",
       "      <td>0</td>\n",
       "      <td>0</td>\n",
       "      <td>0</td>\n",
       "      <td>0</td>\n",
       "      <td>0</td>\n",
       "    </tr>\n",
       "    <tr>\n",
       "      <th>2225</th>\n",
       "      <td>0</td>\n",
       "      <td>1</td>\n",
       "      <td>0</td>\n",
       "      <td>0</td>\n",
       "      <td>0</td>\n",
       "      <td>0</td>\n",
       "      <td>0</td>\n",
       "      <td>0</td>\n",
       "      <td>0</td>\n",
       "      <td>0</td>\n",
       "      <td>...</td>\n",
       "      <td>0</td>\n",
       "      <td>0</td>\n",
       "      <td>0</td>\n",
       "      <td>0</td>\n",
       "      <td>0</td>\n",
       "      <td>0</td>\n",
       "      <td>0</td>\n",
       "      <td>0</td>\n",
       "      <td>0</td>\n",
       "      <td>0</td>\n",
       "    </tr>\n",
       "  </tbody>\n",
       "</table>\n",
       "<p>5 rows × 29286 columns</p>\n",
       "</div>"
      ],
      "text/plain": [
       "      00  000  0001  000bn  000m  000s  000th  001  001and  001st  ...  zooms  \\\n",
       "2221   0    2     0      0     0     0      0    0       0      0  ...      0   \n",
       "2222   0    1     0      0     0     0      0    0       0      0  ...      0   \n",
       "2223   0    0     0      0     0     0      0    0       0      0  ...      0   \n",
       "2224   0    0     0      0     0     0      0    0       0      0  ...      0   \n",
       "2225   0    1     0      0     0     0      0    0       0      0  ...      0   \n",
       "\n",
       "      zooropa  zornotza  zorro  zubair  zuluaga  zurich  zutons  zvonareva  \\\n",
       "2221        0         0      0       0        0       0       0          0   \n",
       "2222        0         0      0       0        0       0       0          0   \n",
       "2223        0         0      0       0        0       0       0          0   \n",
       "2224        0         0      0       0        0       0       0          0   \n",
       "2225        0         0      0       0        0       0       0          0   \n",
       "\n",
       "      zvyagintsev  \n",
       "2221            0  \n",
       "2222            0  \n",
       "2223            0  \n",
       "2224            0  \n",
       "2225            0  \n",
       "\n",
       "[5 rows x 29286 columns]"
      ]
     },
     "execution_count": 93,
     "metadata": {},
     "output_type": "execute_result"
    }
   ],
   "source": [
    "# from scipy compressed sparse row matrix to sparse DataFrame\n",
    "doc_term_matrix_df = pd.DataFrame.sparse.from_spmatrix(doc_term_matrix, columns=words)\n",
    "doc_term_matrix_df.tail()"
   ]
  },
  {
   "cell_type": "code",
   "execution_count": 94,
   "metadata": {},
   "outputs": [
    {
     "data": {
      "text/plain": [
       "the    52580\n",
       "to     24768\n",
       "of     19933\n",
       "and    18575\n",
       "in     17555\n",
       "dtype: int32"
      ]
     },
     "execution_count": 94,
     "metadata": {},
     "output_type": "execute_result"
    }
   ],
   "source": [
    "word_freq = doc_term_matrix_df.sum(axis=0).astype(int)\n",
    "word_freq.sort_values(ascending=False).head()"
   ]
  },
  {
   "cell_type": "markdown",
   "metadata": {},
   "source": [
    "### TFiDF"
   ]
  },
  {
   "cell_type": "code",
   "execution_count": 103,
   "metadata": {},
   "outputs": [
    {
     "name": "stdout",
     "output_type": "stream",
     "text": [
      "Transform a count matrix to a normalized tf or tf-idf representation\n",
      "\n",
      "    Tf means term-frequency while tf-idf means term-frequency times inverse\n",
      "    document-frequency. This is a common term weighting scheme in information\n",
      "    retrieval, that has also found good use in document classification.\n",
      "\n",
      "    The goal of using tf-idf instead of the raw frequencies of occurrence of a\n",
      "    token in a given document is to scale down the impact of tokens that occur\n",
      "    very frequently in a given corpus and that are hence empirically less\n",
      "    informative than features that occur in a small fraction of the training\n",
      "    corpus.\n",
      "\n",
      "    The formula that is used to compute the tf-idf for a term t of a document d\n",
      "    in a document set is tf-idf(t, d) = tf(t, d) * idf(t), and the idf is\n",
      "    computed as idf(t) = log [ n / df(t) ] + 1 (if ``smooth_idf=False``), where\n",
      "    n is the total number of documents in the document set and df(t) is the\n",
      "    document frequency of t; the document frequency is the number of documents\n",
      "    in the document set that contain the term t. The effect of adding \"1\" to\n",
      "    the idf in the equation above is that terms with zero idf, i.e., terms\n",
      "    that occur in all documents in a training set, will not be entirely\n",
      "    ignored.\n",
      "    (Note that the idf formula above differs from the standard textbook\n",
      "    notation that defines the idf as\n",
      "    idf(t) = log [ n / (df(t) + 1) ]).\n",
      "\n",
      "    If ``smooth_idf=True`` (the default), the constant \"1\" is added to the\n",
      "    numerator and denominator of the idf as if an extra document was seen\n",
      "    containing every term in the collection exactly once, which prevents\n",
      "    zero divisions: idf(d, t) = log [ (1 + n) / (1 + df(d, t)) ] + 1.\n",
      "\n",
      "    Furthermore, the formulas used to compute tf and idf depend\n",
      "    on parameter settings that correspond to the SMART notation used in IR\n",
      "    as follows:\n",
      "\n",
      "    Tf is \"n\" (natural) by default, \"l\" (logarithmic) when\n",
      "    ``sublinear_tf=True``.\n",
      "    Idf is \"t\" when use_idf is given, \"n\" (none) otherwise.\n",
      "    Normalization is \"c\" (cosine) when ``norm='l2'``, \"n\" (none)\n",
      "    when ``norm=None``.\n",
      "\n",
      "    Read more in the :ref:`User Guide <text_feature_extraction>`.\n",
      "\n",
      "    Parameters\n",
      "    ----------\n",
      "    norm : 'l1', 'l2' or None, optional (default='l2')\n",
      "        Each output row will have unit norm, either:\n",
      "        * 'l2': Sum of squares of vector elements is 1. The cosine\n",
      "        similarity between two vectors is their dot product when l2 norm has\n",
      "        been applied.\n",
      "        * 'l1': Sum of absolute values of vector elements is 1.\n",
      "        See :func:`preprocessing.normalize`\n",
      "\n",
      "    use_idf : boolean (default=True)\n",
      "        Enable inverse-document-frequency reweighting.\n",
      "\n",
      "    smooth_idf : boolean (default=True)\n",
      "        Smooth idf weights by adding one to document frequencies, as if an\n",
      "        extra document was seen containing every term in the collection\n",
      "        exactly once. Prevents zero divisions.\n",
      "\n",
      "    sublinear_tf : boolean (default=False)\n",
      "        Apply sublinear tf scaling, i.e. replace tf with 1 + log(tf).\n",
      "\n",
      "    Attributes\n",
      "    ----------\n",
      "    idf_ : array, shape (n_features)\n",
      "        The inverse document frequency (IDF) vector; only defined\n",
      "        if  ``use_idf`` is True.\n",
      "\n",
      "    Examples\n",
      "    --------\n",
      "    >>> from sklearn.feature_extraction.text import TfidfTransformer\n",
      "    >>> from sklearn.feature_extraction.text import CountVectorizer\n",
      "    >>> from sklearn.pipeline import Pipeline\n",
      "    >>> import numpy as np\n",
      "    >>> corpus = ['this is the first document',\n",
      "    ...           'this document is the second document',\n",
      "    ...           'and this is the third one',\n",
      "    ...           'is this the first document']\n",
      "    >>> vocabulary = ['this', 'document', 'first', 'is', 'second', 'the',\n",
      "    ...               'and', 'one']\n",
      "    >>> pipe = Pipeline([('count', CountVectorizer(vocabulary=vocabulary)),\n",
      "    ...                  ('tfid', TfidfTransformer())]).fit(corpus)\n",
      "    >>> pipe['count'].transform(corpus).toarray()\n",
      "    array([[1, 1, 1, 1, 0, 1, 0, 0],\n",
      "           [1, 2, 0, 1, 1, 1, 0, 0],\n",
      "           [1, 0, 0, 1, 0, 1, 1, 1],\n",
      "           [1, 1, 1, 1, 0, 1, 0, 0]])\n",
      "    >>> pipe['tfid'].idf_\n",
      "    array([1.        , 1.22314355, 1.51082562, 1.        , 1.91629073,\n",
      "           1.        , 1.91629073, 1.91629073])\n",
      "    >>> pipe.transform(corpus).shape\n",
      "    (4, 8)\n",
      "\n",
      "    References\n",
      "    ----------\n",
      "\n",
      "    .. [Yates2011] R. Baeza-Yates and B. Ribeiro-Neto (2011). Modern\n",
      "                   Information Retrieval. Addison Wesley, pp. 68-74.\n",
      "\n",
      "    .. [MRS2008] C.D. Manning, P. Raghavan and H. Schütze  (2008).\n",
      "                   Introduction to Information Retrieval. Cambridge University\n",
      "                   Press, pp. 118-120.\n",
      "    \n"
     ]
    }
   ],
   "source": [
    "print(TfidfTransformer().__doc__)"
   ]
  },
  {
   "cell_type": "code",
   "execution_count": 151,
   "metadata": {},
   "outputs": [],
   "source": [
    "sample_docs = ['call you tomorrow', \n",
    "                'Call me a taxi', \n",
    "                'please call me... PLEASE!']"
   ]
  },
  {
   "cell_type": "markdown",
   "metadata": {},
   "source": [
    "#### <font color=green> term frequency "
   ]
  },
  {
   "cell_type": "code",
   "execution_count": 152,
   "metadata": {},
   "outputs": [],
   "source": [
    "vectorizer = CountVectorizer()\n",
    "tf_dtm = vectorizer.fit_transform(sample_docs)\n",
    "tokens = vectorizer.get_feature_names()"
   ]
  },
  {
   "cell_type": "code",
   "execution_count": 157,
   "metadata": {},
   "outputs": [
    {
     "data": {
      "text/html": [
       "<div>\n",
       "<style scoped>\n",
       "    .dataframe tbody tr th:only-of-type {\n",
       "        vertical-align: middle;\n",
       "    }\n",
       "\n",
       "    .dataframe tbody tr th {\n",
       "        vertical-align: top;\n",
       "    }\n",
       "\n",
       "    .dataframe thead th {\n",
       "        text-align: right;\n",
       "    }\n",
       "</style>\n",
       "<table border=\"1\" class=\"dataframe\">\n",
       "  <thead>\n",
       "    <tr style=\"text-align: right;\">\n",
       "      <th></th>\n",
       "      <th>call</th>\n",
       "      <th>me</th>\n",
       "      <th>please</th>\n",
       "      <th>taxi</th>\n",
       "      <th>tomorrow</th>\n",
       "      <th>you</th>\n",
       "    </tr>\n",
       "  </thead>\n",
       "  <tbody>\n",
       "    <tr>\n",
       "      <th>0</th>\n",
       "      <td>1</td>\n",
       "      <td>0</td>\n",
       "      <td>0</td>\n",
       "      <td>0</td>\n",
       "      <td>1</td>\n",
       "      <td>1</td>\n",
       "    </tr>\n",
       "    <tr>\n",
       "      <th>1</th>\n",
       "      <td>1</td>\n",
       "      <td>1</td>\n",
       "      <td>0</td>\n",
       "      <td>1</td>\n",
       "      <td>0</td>\n",
       "      <td>0</td>\n",
       "    </tr>\n",
       "    <tr>\n",
       "      <th>2</th>\n",
       "      <td>1</td>\n",
       "      <td>1</td>\n",
       "      <td>2</td>\n",
       "      <td>0</td>\n",
       "      <td>0</td>\n",
       "      <td>0</td>\n",
       "    </tr>\n",
       "  </tbody>\n",
       "</table>\n",
       "</div>"
      ],
      "text/plain": [
       "   call  me  please  taxi  tomorrow  you\n",
       "0     1   0       0     0         1    1\n",
       "1     1   1       0     1         0    0\n",
       "2     1   1       2     0         0    0"
      ]
     },
     "execution_count": 157,
     "metadata": {},
     "output_type": "execute_result"
    }
   ],
   "source": [
    "term_frequency = pd.DataFrame(data=tf_dtm.todense(),columns=tokens)\n",
    "term_frequency"
   ]
  },
  {
   "cell_type": "markdown",
   "metadata": {},
   "source": [
    "#### <font color=green> document frequency "
   ]
  },
  {
   "cell_type": "code",
   "execution_count": 158,
   "metadata": {},
   "outputs": [
    {
     "data": {
      "text/html": [
       "<div>\n",
       "<style scoped>\n",
       "    .dataframe tbody tr th:only-of-type {\n",
       "        vertical-align: middle;\n",
       "    }\n",
       "\n",
       "    .dataframe tbody tr th {\n",
       "        vertical-align: top;\n",
       "    }\n",
       "\n",
       "    .dataframe thead th {\n",
       "        text-align: right;\n",
       "    }\n",
       "</style>\n",
       "<table border=\"1\" class=\"dataframe\">\n",
       "  <thead>\n",
       "    <tr style=\"text-align: right;\">\n",
       "      <th></th>\n",
       "      <th>call</th>\n",
       "      <th>me</th>\n",
       "      <th>please</th>\n",
       "      <th>taxi</th>\n",
       "      <th>tomorrow</th>\n",
       "      <th>you</th>\n",
       "    </tr>\n",
       "  </thead>\n",
       "  <tbody>\n",
       "    <tr>\n",
       "      <th>0</th>\n",
       "      <td>1</td>\n",
       "      <td>0</td>\n",
       "      <td>0</td>\n",
       "      <td>0</td>\n",
       "      <td>1</td>\n",
       "      <td>1</td>\n",
       "    </tr>\n",
       "    <tr>\n",
       "      <th>1</th>\n",
       "      <td>1</td>\n",
       "      <td>1</td>\n",
       "      <td>0</td>\n",
       "      <td>1</td>\n",
       "      <td>0</td>\n",
       "      <td>0</td>\n",
       "    </tr>\n",
       "    <tr>\n",
       "      <th>2</th>\n",
       "      <td>1</td>\n",
       "      <td>1</td>\n",
       "      <td>1</td>\n",
       "      <td>0</td>\n",
       "      <td>0</td>\n",
       "      <td>0</td>\n",
       "    </tr>\n",
       "  </tbody>\n",
       "</table>\n",
       "</div>"
      ],
      "text/plain": [
       "   call  me  please  taxi  tomorrow  you\n",
       "0     1   0       0     0         1    1\n",
       "1     1   1       0     1         0    0\n",
       "2     1   1       1     0         0    0"
      ]
     },
     "execution_count": 158,
     "metadata": {},
     "output_type": "execute_result"
    }
   ],
   "source": [
    "vectorizer = CountVectorizer(binary=True)\n",
    "df_dtm = vectorizer.fit_transform(sample_docs).todense()\n",
    "document_frequency = pd.DataFrame(data=df_dtm,columns=tokens)\n",
    "document_frequency"
   ]
  },
  {
   "cell_type": "code",
   "execution_count": 159,
   "metadata": {},
   "outputs": [
    {
     "data": {
      "text/html": [
       "<div>\n",
       "<style scoped>\n",
       "    .dataframe tbody tr th:only-of-type {\n",
       "        vertical-align: middle;\n",
       "    }\n",
       "\n",
       "    .dataframe tbody tr th {\n",
       "        vertical-align: top;\n",
       "    }\n",
       "\n",
       "    .dataframe thead th {\n",
       "        text-align: right;\n",
       "    }\n",
       "</style>\n",
       "<table border=\"1\" class=\"dataframe\">\n",
       "  <thead>\n",
       "    <tr style=\"text-align: right;\">\n",
       "      <th></th>\n",
       "      <th>call</th>\n",
       "      <th>me</th>\n",
       "      <th>please</th>\n",
       "      <th>taxi</th>\n",
       "      <th>tomorrow</th>\n",
       "      <th>you</th>\n",
       "    </tr>\n",
       "  </thead>\n",
       "  <tbody>\n",
       "    <tr>\n",
       "      <th>0</th>\n",
       "      <td>3</td>\n",
       "      <td>2</td>\n",
       "      <td>1</td>\n",
       "      <td>1</td>\n",
       "      <td>1</td>\n",
       "      <td>1</td>\n",
       "    </tr>\n",
       "  </tbody>\n",
       "</table>\n",
       "</div>"
      ],
      "text/plain": [
       "   call  me  please  taxi  tomorrow  you\n",
       "0     3   2       1     1         1    1"
      ]
     },
     "execution_count": 159,
     "metadata": {},
     "output_type": "execute_result"
    }
   ],
   "source": [
    "vectorizer = CountVectorizer(binary=True)\n",
    "df_dtm = vectorizer.fit_transform(sample_docs).todense().sum(axis=0)\n",
    "document_frequency = pd.DataFrame(data=df_dtm,columns=tokens)\n",
    "document_frequency"
   ]
  },
  {
   "cell_type": "markdown",
   "metadata": {},
   "source": [
    "#### <font color=green> TF-IDF "
   ]
  },
  {
   "cell_type": "code",
   "execution_count": 112,
   "metadata": {},
   "outputs": [
    {
     "name": "stdout",
     "output_type": "stream",
     "text": [
      "   call   me  please  taxi  tomorrow  you\n",
      "0  0.33 0.00    0.00  0.00      1.00 1.00\n",
      "1  0.33 0.50    0.00  1.00      0.00 0.00\n",
      "2  0.33 0.50    2.00  0.00      0.00 0.00\n"
     ]
    }
   ],
   "source": [
    "tfidf = pd.DataFrame(data=tf_dtm/df_dtm, columns=tokens)\n",
    "print(tfidf)"
   ]
  },
  {
   "cell_type": "code",
   "execution_count": 113,
   "metadata": {},
   "outputs": [
    {
     "name": "stdout",
     "output_type": "stream",
     "text": [
      "   call   me  please  taxi  tomorrow  you\n",
      "0  0.39 0.00    0.00  0.00      0.65 0.65\n",
      "1  0.43 0.55    0.00  0.72      0.00 0.00\n",
      "2  0.27 0.34    0.90  0.00      0.00 0.00\n"
     ]
    }
   ],
   "source": [
    "vect = TfidfVectorizer(smooth_idf=True, #add one to document frequency, as if an extra document contained every token in the vocabulary once to prevents zero divisions\n",
    "                       norm='l2',            # squared weights sum to 1 by document\n",
    "                       sublinear_tf=False,   # if True, use 1+log(tf)\n",
    "                       binary=False)\n",
    "print(pd.DataFrame(vect.fit_transform(sample_docs).todense(), \n",
    "             columns=vect.get_feature_names()))"
   ]
  },
  {
   "cell_type": "markdown",
   "metadata": {},
   "source": [
    "### TfIDF with new articles"
   ]
  },
  {
   "cell_type": "code",
   "execution_count": 160,
   "metadata": {},
   "outputs": [
    {
     "data": {
      "text/plain": [
       "(2226, 28991)"
      ]
     },
     "execution_count": 160,
     "metadata": {},
     "output_type": "execute_result"
    }
   ],
   "source": [
    "tfidf = TfidfVectorizer(stop_words='english')\n",
    "dtm_tfidf = tfidf.fit_transform(docs.body)\n",
    "tokens = tfidf.get_feature_names()\n",
    "dtm_tfidf.shape"
   ]
  },
  {
   "cell_type": "code",
   "execution_count": 161,
   "metadata": {},
   "outputs": [
    {
     "data": {
      "text/plain": [
       "<2226x28991 sparse matrix of type '<class 'numpy.float64'>'\n",
       "\twith 319109 stored elements in Compressed Sparse Row format>"
      ]
     },
     "execution_count": 161,
     "metadata": {},
     "output_type": "execute_result"
    }
   ],
   "source": [
    "dtm_tfidf"
   ]
  },
  {
   "cell_type": "code",
   "execution_count": 163,
   "metadata": {},
   "outputs": [
    {
     "data": {
      "text/html": [
       "<div>\n",
       "<style scoped>\n",
       "    .dataframe tbody tr th:only-of-type {\n",
       "        vertical-align: middle;\n",
       "    }\n",
       "\n",
       "    .dataframe tbody tr th {\n",
       "        vertical-align: top;\n",
       "    }\n",
       "\n",
       "    .dataframe thead th {\n",
       "        text-align: right;\n",
       "    }\n",
       "</style>\n",
       "<table border=\"1\" class=\"dataframe\">\n",
       "  <thead>\n",
       "    <tr style=\"text-align: right;\">\n",
       "      <th></th>\n",
       "      <th>tfidf</th>\n",
       "      <th>token</th>\n",
       "    </tr>\n",
       "  </thead>\n",
       "  <tbody>\n",
       "    <tr>\n",
       "      <th>0</th>\n",
       "      <td>0.30</td>\n",
       "      <td>00</td>\n",
       "    </tr>\n",
       "    <tr>\n",
       "      <th>1</th>\n",
       "      <td>21.00</td>\n",
       "      <td>000</td>\n",
       "    </tr>\n",
       "    <tr>\n",
       "      <th>2</th>\n",
       "      <td>0.07</td>\n",
       "      <td>0001</td>\n",
       "    </tr>\n",
       "    <tr>\n",
       "      <th>3</th>\n",
       "      <td>0.11</td>\n",
       "      <td>000bn</td>\n",
       "    </tr>\n",
       "    <tr>\n",
       "      <th>4</th>\n",
       "      <td>2.66</td>\n",
       "      <td>000m</td>\n",
       "    </tr>\n",
       "    <tr>\n",
       "      <th>...</th>\n",
       "      <td>...</td>\n",
       "      <td>...</td>\n",
       "    </tr>\n",
       "    <tr>\n",
       "      <th>28986</th>\n",
       "      <td>0.04</td>\n",
       "      <td>zuluaga</td>\n",
       "    </tr>\n",
       "    <tr>\n",
       "      <th>28987</th>\n",
       "      <td>1.02</td>\n",
       "      <td>zurich</td>\n",
       "    </tr>\n",
       "    <tr>\n",
       "      <th>28988</th>\n",
       "      <td>0.12</td>\n",
       "      <td>zutons</td>\n",
       "    </tr>\n",
       "    <tr>\n",
       "      <th>28989</th>\n",
       "      <td>0.31</td>\n",
       "      <td>zvonareva</td>\n",
       "    </tr>\n",
       "    <tr>\n",
       "      <th>28990</th>\n",
       "      <td>0.25</td>\n",
       "      <td>zvyagintsev</td>\n",
       "    </tr>\n",
       "  </tbody>\n",
       "</table>\n",
       "<p>28991 rows × 2 columns</p>\n",
       "</div>"
      ],
      "text/plain": [
       "       tfidf        token\n",
       "0       0.30           00\n",
       "1      21.00          000\n",
       "2       0.07         0001\n",
       "3       0.11        000bn\n",
       "4       2.66         000m\n",
       "...      ...          ...\n",
       "28986   0.04      zuluaga\n",
       "28987   1.02       zurich\n",
       "28988   0.12       zutons\n",
       "28989   0.31    zvonareva\n",
       "28990   0.25  zvyagintsev\n",
       "\n",
       "[28991 rows x 2 columns]"
      ]
     },
     "execution_count": 163,
     "metadata": {},
     "output_type": "execute_result"
    }
   ],
   "source": [
    "pd.DataFrame({'tfidf': dtm_tfidf.todense().sum(axis=0).A1,'token': tokens})"
   ]
  },
  {
   "cell_type": "code",
   "execution_count": 140,
   "metadata": {},
   "outputs": [],
   "source": [
    "token_freq = (pd.DataFrame({'tfidf': dtm_tfidf.sum(axis=0).A1,\n",
    "                            'token': tokens})\n",
    "              .sort_values('tfidf', ascending=False))"
   ]
  },
  {
   "cell_type": "code",
   "execution_count": 141,
   "metadata": {},
   "outputs": [
    {
     "data": {
      "text/html": [
       "<div>\n",
       "<style scoped>\n",
       "    .dataframe tbody tr th:only-of-type {\n",
       "        vertical-align: middle;\n",
       "    }\n",
       "\n",
       "    .dataframe tbody tr th {\n",
       "        vertical-align: top;\n",
       "    }\n",
       "\n",
       "    .dataframe thead th {\n",
       "        text-align: right;\n",
       "    }\n",
       "</style>\n",
       "<table border=\"1\" class=\"dataframe\">\n",
       "  <thead>\n",
       "    <tr style=\"text-align: right;\">\n",
       "      <th></th>\n",
       "      <th>tfidf</th>\n",
       "      <th>token</th>\n",
       "    </tr>\n",
       "  </thead>\n",
       "  <tbody>\n",
       "    <tr>\n",
       "      <th>22753</th>\n",
       "      <td>87.28</td>\n",
       "      <td>said</td>\n",
       "    </tr>\n",
       "    <tr>\n",
       "      <th>17644</th>\n",
       "      <td>58.23</td>\n",
       "      <td>mr</td>\n",
       "    </tr>\n",
       "    <tr>\n",
       "      <th>28832</th>\n",
       "      <td>41.99</td>\n",
       "      <td>year</td>\n",
       "    </tr>\n",
       "    <tr>\n",
       "      <th>19480</th>\n",
       "      <td>37.31</td>\n",
       "      <td>people</td>\n",
       "    </tr>\n",
       "    <tr>\n",
       "      <th>18053</th>\n",
       "      <td>34.20</td>\n",
       "      <td>new</td>\n",
       "    </tr>\n",
       "    <tr>\n",
       "      <th>...</th>\n",
       "      <td>...</td>\n",
       "      <td>...</td>\n",
       "    </tr>\n",
       "    <tr>\n",
       "      <th>16833</th>\n",
       "      <td>0.01</td>\n",
       "      <td>meanings</td>\n",
       "    </tr>\n",
       "    <tr>\n",
       "      <th>23798</th>\n",
       "      <td>0.01</td>\n",
       "      <td>siblings</td>\n",
       "    </tr>\n",
       "    <tr>\n",
       "      <th>16733</th>\n",
       "      <td>0.01</td>\n",
       "      <td>mcalmont</td>\n",
       "    </tr>\n",
       "    <tr>\n",
       "      <th>3440</th>\n",
       "      <td>0.01</td>\n",
       "      <td>bargaining</td>\n",
       "    </tr>\n",
       "    <tr>\n",
       "      <th>3883</th>\n",
       "      <td>0.01</td>\n",
       "      <td>biassed</td>\n",
       "    </tr>\n",
       "  </tbody>\n",
       "</table>\n",
       "<p>28991 rows × 2 columns</p>\n",
       "</div>"
      ],
      "text/plain": [
       "       tfidf       token\n",
       "22753  87.28        said\n",
       "17644  58.23          mr\n",
       "28832  41.99        year\n",
       "19480  37.31      people\n",
       "18053  34.20         new\n",
       "...      ...         ...\n",
       "16833   0.01    meanings\n",
       "23798   0.01    siblings\n",
       "16733   0.01    mcalmont\n",
       "3440    0.01  bargaining\n",
       "3883    0.01     biassed\n",
       "\n",
       "[28991 rows x 2 columns]"
      ]
     },
     "execution_count": 141,
     "metadata": {},
     "output_type": "execute_result"
    }
   ],
   "source": [
    "token_freq"
   ]
  },
  {
   "cell_type": "code",
   "execution_count": 119,
   "metadata": {},
   "outputs": [
    {
     "data": {
      "text/html": [
       "<div>\n",
       "<style scoped>\n",
       "    .dataframe tbody tr th:only-of-type {\n",
       "        vertical-align: middle;\n",
       "    }\n",
       "\n",
       "    .dataframe tbody tr th {\n",
       "        vertical-align: top;\n",
       "    }\n",
       "\n",
       "    .dataframe thead th {\n",
       "        text-align: right;\n",
       "    }\n",
       "</style>\n",
       "<table border=\"1\" class=\"dataframe\">\n",
       "  <thead>\n",
       "    <tr style=\"text-align: right;\">\n",
       "      <th></th>\n",
       "      <th>tfidf</th>\n",
       "    </tr>\n",
       "    <tr>\n",
       "      <th>token</th>\n",
       "      <th></th>\n",
       "    </tr>\n",
       "  </thead>\n",
       "  <tbody>\n",
       "    <tr>\n",
       "      <th>said</th>\n",
       "      <td>87.28</td>\n",
       "    </tr>\n",
       "    <tr>\n",
       "      <th>mr</th>\n",
       "      <td>58.23</td>\n",
       "    </tr>\n",
       "    <tr>\n",
       "      <th>year</th>\n",
       "      <td>41.99</td>\n",
       "    </tr>\n",
       "    <tr>\n",
       "      <th>people</th>\n",
       "      <td>37.31</td>\n",
       "    </tr>\n",
       "    <tr>\n",
       "      <th>new</th>\n",
       "      <td>34.20</td>\n",
       "    </tr>\n",
       "    <tr>\n",
       "      <th>film</th>\n",
       "      <td>29.73</td>\n",
       "    </tr>\n",
       "    <tr>\n",
       "      <th>government</th>\n",
       "      <td>28.80</td>\n",
       "    </tr>\n",
       "    <tr>\n",
       "      <th>world</th>\n",
       "      <td>27.04</td>\n",
       "    </tr>\n",
       "    <tr>\n",
       "      <th>time</th>\n",
       "      <td>26.36</td>\n",
       "    </tr>\n",
       "    <tr>\n",
       "      <th>best</th>\n",
       "      <td>26.31</td>\n",
       "    </tr>\n",
       "    <tr>\n",
       "      <th>pavlovian</th>\n",
       "      <td>0.01</td>\n",
       "    </tr>\n",
       "    <tr>\n",
       "      <th>ridiculuous</th>\n",
       "      <td>0.01</td>\n",
       "    </tr>\n",
       "    <tr>\n",
       "      <th>suede</th>\n",
       "      <td>0.01</td>\n",
       "    </tr>\n",
       "    <tr>\n",
       "      <th>mediocrity</th>\n",
       "      <td>0.01</td>\n",
       "    </tr>\n",
       "    <tr>\n",
       "      <th>mediocre</th>\n",
       "      <td>0.01</td>\n",
       "    </tr>\n",
       "    <tr>\n",
       "      <th>meanings</th>\n",
       "      <td>0.01</td>\n",
       "    </tr>\n",
       "    <tr>\n",
       "      <th>siblings</th>\n",
       "      <td>0.01</td>\n",
       "    </tr>\n",
       "    <tr>\n",
       "      <th>mcalmont</th>\n",
       "      <td>0.01</td>\n",
       "    </tr>\n",
       "    <tr>\n",
       "      <th>bargaining</th>\n",
       "      <td>0.01</td>\n",
       "    </tr>\n",
       "    <tr>\n",
       "      <th>biassed</th>\n",
       "      <td>0.01</td>\n",
       "    </tr>\n",
       "  </tbody>\n",
       "</table>\n",
       "</div>"
      ],
      "text/plain": [
       "             tfidf\n",
       "token             \n",
       "said         87.28\n",
       "mr           58.23\n",
       "year         41.99\n",
       "people       37.31\n",
       "new          34.20\n",
       "film         29.73\n",
       "government   28.80\n",
       "world        27.04\n",
       "time         26.36\n",
       "best         26.31\n",
       "pavlovian     0.01\n",
       "ridiculuous   0.01\n",
       "suede         0.01\n",
       "mediocrity    0.01\n",
       "mediocre      0.01\n",
       "meanings      0.01\n",
       "siblings      0.01\n",
       "mcalmont      0.01\n",
       "bargaining    0.01\n",
       "biassed       0.01"
      ]
     },
     "execution_count": 119,
     "metadata": {},
     "output_type": "execute_result"
    }
   ],
   "source": [
    "token_freq.head(10).append(token_freq.tail(10)).set_index('token')\n"
   ]
  },
  {
   "cell_type": "markdown",
   "metadata": {},
   "source": [
    "## Summarizing news articles using TfIDF weights"
   ]
  },
  {
   "cell_type": "code",
   "execution_count": 144,
   "metadata": {},
   "outputs": [],
   "source": [
    "article = docs.sample(1).squeeze()\n",
    "article_id = article.name"
   ]
  },
  {
   "cell_type": "code",
   "execution_count": 145,
   "metadata": {},
   "outputs": [
    {
     "name": "stdout",
     "output_type": "stream",
     "text": [
      "Topic:\tPolitics\n",
      "\n",
      "Peers debate Crown succession law\n",
      "\n",
      "Peers are debating proposals to change the rules governing the succession to the throne.  Labour peer Lord Dubs' Succession to the Crown Bill aims to end the right of male heirs to succeed to the crown even if they have an older sister. The private member's bill would also abolish the ban on heirs to the throne marrying Roman Catholics. The Fabian Society's Sundar Katwala said the change was \"long overdue\" and that he expected a \"warm response\". The political reform group's general secretary told BBC Radio 4's Today Programme there were some \"very out-dated features\" at the heart of Britain's constitution.  \"In 1998 the government said in principle it supported the idea of ending gender discrimination and that it would consult on how to come forward with its own measures. \"We hope they are warm towards it and don't say this is the wrong time.\" He pointed out that it was 30 years since the sex discrimination act and urged politicians on all sides to back the bill. Mr Katwala added: \"This is long overdue. Parliament will have to do it eventually, the government, and I hope all of the political parties, might think this is a very simple thing to have in their manifestos.\"  But he acknowledged that even if the bill did win support, it was unlikely to become law because the legislative programme is likely to be squeezed by the coming general election. He said he hoped the bill would be a \"gentle nudge\" to the government and suggested it would \"demand a response\". The bill, which is in the Lords for its second reading, has been adopted by former chief whip Ann Taylor in the Commons. The rule of succession is regulated not only through descent and tradition but also by the Act of Settlement which confirmed in 1701 that it was for Parliament to determine the title to the throne.\n"
     ]
    }
   ],
   "source": [
    "\n",
    "print(f'Topic:\\t{article.topic.capitalize()}\\n\\n{article.heading}\\n')\n",
    "print(article.body)"
   ]
  },
  {
   "cell_type": "code",
   "execution_count": 147,
   "metadata": {},
   "outputs": [
    {
     "data": {
      "text/plain": [
       "topic                                               politics\n",
       "heading                    Peers debate Crown succession law\n",
       "body       Peers are debating proposals to change the rul...\n",
       "Name: 1161, dtype: object"
      ]
     },
     "execution_count": 147,
     "metadata": {},
     "output_type": "execute_result"
    }
   ],
   "source": [
    "article"
   ]
  },
  {
   "cell_type": "code",
   "execution_count": 131,
   "metadata": {},
   "outputs": [
    {
     "data": {
      "text/plain": [
       "smith        0.41\n",
       "vogts        0.36\n",
       "scotland     0.23\n",
       "ferguson     0.16\n",
       "scottish     0.14\n",
       "ibrox        0.14\n",
       "hands        0.13\n",
       "souness      0.13\n",
       "1986         0.13\n",
       "players      0.13\n",
       "widely       0.12\n",
       "experience   0.12\n",
       "rangers      0.12\n",
       "cup          0.11\n",
       "manager      0.11\n",
       "assistant    0.11\n",
       "safe         0.10\n",
       "alex         0.10\n",
       "national     0.10\n",
       "impressive   0.10\n",
       "dtype: float64"
      ]
     },
     "execution_count": 131,
     "metadata": {},
     "output_type": "execute_result"
    }
   ],
   "source": [
    "article_tfidf = dtm_tfidf[article_id].todense().A1\n",
    "article_tokens = pd.Series(article_tfidf, index=tokens)\n",
    "article_tokens.sort_values(ascending=False).head(20)"
   ]
  },
  {
   "cell_type": "code",
   "execution_count": null,
   "metadata": {},
   "outputs": [],
   "source": []
  }
 ],
 "metadata": {
  "kernelspec": {
   "display_name": "Python 3",
   "language": "python",
   "name": "python3"
  },
  "language_info": {
   "codemirror_mode": {
    "name": "ipython",
    "version": 3
   },
   "file_extension": ".py",
   "mimetype": "text/x-python",
   "name": "python",
   "nbconvert_exporter": "python",
   "pygments_lexer": "ipython3",
   "version": "3.6.10"
  }
 },
 "nbformat": 4,
 "nbformat_minor": 4
}
